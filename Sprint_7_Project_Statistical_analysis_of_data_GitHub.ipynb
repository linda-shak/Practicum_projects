{
 "cells": [
  {
   "cell_type": "markdown",
   "id": "603e8299",
   "metadata": {},
   "source": [
    "# Проверка гипотез для сервиса аренды самокатов"
   ]
  },
  {
   "cell_type": "markdown",
   "id": "e6f9c2bc",
   "metadata": {},
   "source": [
    "Изучить и проанализировать данные о пользователях из нескольких городов и их поездках сервиса аренды самокатов, чтобы проверить гипотезы, способные помочь бизнесу расти.\n",
    "\n",
    "Чтобы совершать поездки по городу, пользователи сервиса пользуются мобильным приложением. Сервисом можно пользоваться:\n",
    "- без подписки\n",
    "    - абонентская плата отсутствует;\n",
    "    - стоимость одной минуты поездки — 8 рублей;\n",
    "    - стоимость старта (начала поездки) — 50 рублей;\n",
    "- с подпиской Ultra\n",
    "    - абонентская плата — 199 рублей в месяц;\n",
    "    - стоимость одной минуты поездки — 6 рублей;\n",
    "    - стоимость старта — бесплатно."
   ]
  },
  {
   "cell_type": "markdown",
   "id": "4065066f-3d0f-4f55-90ae-c4dc95f21f91",
   "metadata": {
    "jp-MarkdownHeadingCollapsed": true
   },
   "source": [
    "### Описание данных"
   ]
  },
  {
   "cell_type": "markdown",
   "id": "9dfa6469",
   "metadata": {},
   "source": [
    "\n",
    "**Пользователи** — `users_go.csv`\n",
    "- user_id — уникальный идентификатор пользователя\n",
    "- name — имя пользователя\n",
    "- age — возраст\n",
    "- city — город\n",
    "- subscription_type — тип подписки (free, ultra)\n",
    "\n",
    "**Поездки** — `rides_go.csv`\n",
    "- user_id — уникальный идентификатор пользователя\n",
    "- distance — расстояние, которое пользователь проехал в текущей сессии (в метрах)\n",
    "- duration — продолжительность сессии (в минутах) — время с того момента, как пользователь нажал кнопку «Начать поездку» до момента, как он нажал кнопку «Завершить поездку»\n",
    "- date — дата совершения поездки\n",
    "\n",
    "**Подписки** - `subscriptions_go.csv`\n",
    "- subscription_type — тип подписки\n",
    "- minute_price — стоимость одной минуты поездки по данной подписке\n",
    "- start_ride_price — стоимость начала поездки\n",
    "- subscription_fee — стоимость ежемесячного платежа\n",
    "\n"
   ]
  },
  {
   "cell_type": "markdown",
   "id": "01319def-c8aa-400f-8513-18c98b8613d0",
   "metadata": {
    "jp-MarkdownHeadingCollapsed": true
   },
   "source": [
    "### Импорт библиотек"
   ]
  },
  {
   "cell_type": "code",
   "execution_count": 1,
   "id": "72576667",
   "metadata": {},
   "outputs": [],
   "source": [
    "# Стандартные библиотеки\n",
    "import math\n",
    "import numpy as np\n",
    "# from math import sqrt\n",
    "import re\n",
    "\n",
    "# Библиотеки для визуализации\n",
    "import matplotlib.pyplot as plt\n",
    "import seaborn as sns\n",
    "\n",
    "# Модули проекта\n",
    "# импорт модуля из библиотеки scipy\n",
    "import scipy.stats as st\n",
    "\n",
    "# Сторонние библиотеки\n",
    "import pandas as pd"
   ]
  },
  {
   "cell_type": "markdown",
   "id": "a579ca96-cff8-4a3a-b6ba-d2f7ffb70bdb",
   "metadata": {
    "jp-MarkdownHeadingCollapsed": true
   },
   "source": [
    "### Функции"
   ]
  },
  {
   "cell_type": "markdown",
   "id": "9829cb25-644b-4e59-904e-a4a03cc01aff",
   "metadata": {
    "jp-MarkdownHeadingCollapsed": true
   },
   "source": [
    "#### f_read_and_info"
   ]
  },
  {
   "cell_type": "code",
   "execution_count": 2,
   "id": "ca81582c-c05d-4e71-9bbe-c585d18503b4",
   "metadata": {},
   "outputs": [],
   "source": [
    "def f_read_and_info(filename, parse_dates=None):\n",
    "    \"\"\"\n",
    "    Загружает CSV-файл из двух возможных путей и выводит информацию о DataFrame.\n",
    "\n",
    "    Args:\n",
    "        filename (str): имя файла\n",
    "        parse_dates (list, optional): список колонок, которые нужно преобразовать в даты\n",
    "\n",
    "    Returns:\n",
    "        df (pd.DataFrame): Датафрейм\n",
    "    \"\"\"\n",
    "    \n",
    "    # путь\n",
    "    pth1 = ''\n",
    "\n",
    "    try:\n",
    "        df = pd.read_csv(pth1+filename, parse_dates=parse_dates)\n",
    "    except Exception as e:\n",
    "        print(f'Файл не найден: {filename}')\n",
    "        return None\n",
    "\n",
    "    print(f'\\n\\n{'-'*25} Файл: {filename} {'-'*25}\\n')\n",
    "\n",
    "    # Переименование столбцов\n",
    "    df.columns = [f_to_snake(col) for col in df.columns]\n",
    "\n",
    "    # вывод первых строк\n",
    "    display(df.head())\n",
    "\n",
    "    # общая информация\n",
    "    df.info()\n",
    "\n",
    "    return df"
   ]
  },
  {
   "cell_type": "markdown",
   "id": "72bd7d6c-668d-46be-a919-c5eb52d0c69a",
   "metadata": {
    "jp-MarkdownHeadingCollapsed": true
   },
   "source": [
    "#### f_to_snake"
   ]
  },
  {
   "cell_type": "code",
   "execution_count": 3,
   "id": "f3b91806-a366-4474-8a47-63336bfdb160",
   "metadata": {},
   "outputs": [],
   "source": [
    "def f_to_snake(name):\n",
    "    \"\"\"\n",
    "    Преобразует столбцы в змеиный регистр\n",
    "    \n",
    "    Args:\n",
    "        name (str): исходное имя\n",
    "    \n",
    "    Returns:\n",
    "        str: имя в snake_case\n",
    "    \"\"\"\n",
    "    \n",
    "    s1 = re.sub(r'(.)([A-Z][a-z]+)', r'\\1_\\2', name)\n",
    "    s2 = re.sub(r'([a-z0-9])([A-Z])', r'\\1_\\2', s1)\n",
    "    return s2.lower()"
   ]
  },
  {
   "cell_type": "markdown",
   "id": "9c079e75-3fc8-4de8-9fa3-fd663c42fdf2",
   "metadata": {
    "jp-MarkdownHeadingCollapsed": true
   },
   "source": [
    "#### f_drop_duplicates"
   ]
  },
  {
   "cell_type": "code",
   "execution_count": 4,
   "id": "81a8bef1-38dc-41a0-ab10-3a3f73fea8a4",
   "metadata": {},
   "outputs": [],
   "source": [
    "def f_drop_duplicates(df, name='Таблица'):\n",
    "    \"\"\"\n",
    "    Функция удаляет дублирующие записи\n",
    "\n",
    "    Args:\n",
    "        df (pd.DataFrame): Датафрейм с данными\n",
    "        name (str): Имя датафрейма\n",
    "\n",
    "    Returns:\n",
    "       df (pd.DataFrame): Датафрейм с удаленными дублирующими данными\n",
    "    \"\"\"\n",
    "    \n",
    "    duplicates = df.duplicated().sum()\n",
    "    if duplicates > 0:\n",
    "        df = df.drop_duplicates()\n",
    "        print(f'{name:<25}: Дубликаты удалены ({duplicates})')\n",
    "    else:\n",
    "        print(f'{name:<25}: Дубликатов нет')\n",
    "    return df"
   ]
  },
  {
   "cell_type": "markdown",
   "id": "47832568-0280-49ec-9b2c-389b4c909842",
   "metadata": {
    "jp-MarkdownHeadingCollapsed": true
   },
   "source": [
    "#### f_boxplot_histplot_describe"
   ]
  },
  {
   "cell_type": "code",
   "execution_count": 5,
   "id": "9d32b07b-c402-41ab-8a1c-e46037eb8241",
   "metadata": {},
   "outputs": [],
   "source": [
    "def f_boxplot_histplot_describe(df, active_clients=None):\n",
    "    \"\"\"\n",
    "    Строит гистограмму и диаграмму размаха для всех количественных признаков.\n",
    "\n",
    "    Args:\n",
    "        df (pd.DataFrame): Исходный датафрейм\n",
    "        active_clients (pd.Series, optional): Таблица с активными клиентами (по умолчанию не используется)\n",
    "\n",
    "    Returns:\n",
    "        pd.DataFrame: Числовое описание диаграммы размаха\n",
    "    \"\"\"\n",
    "\n",
    "    # учет только активных клиентов, если список есть\n",
    "    if active_clients is not None:\n",
    "        df = df.query('id in @ active_clients') \n",
    "\n",
    "    # цветовая палитра\n",
    "    color=sns.color_palette('GnBu')[5]\n",
    "    color2=sns.color_palette('GnBu')[4]\n",
    "\n",
    "    # количественные признаки\n",
    "    num_col_names = df.select_dtypes(include=['number', 'datetime']).columns.drop('id', errors='ignore')\n",
    "\n",
    "    columns_continuous = []\n",
    "    columns_discrete = []\n",
    "\n",
    "    # определение непрерывных и дискретных признаков\n",
    "    for columns_i in num_col_names:\n",
    "        if len(df[columns_i].unique()) <= 15 and df[columns_i].dtype in ['int64', 'Int', 'int32']:\n",
    "            columns_discrete.append(columns_i)\n",
    "        else:\n",
    "            columns_continuous.append(columns_i)\n",
    "    \n",
    "    if len(columns_continuous) == 1:\n",
    "        column = columns_continuous[0]\n",
    "        data = df[column]\n",
    "\n",
    "        fig, axes = plt.subplots(2, 1, figsize=(8, 5), gridspec_kw={'height_ratios': [3, 1]})   # сетка графиков\n",
    "        \n",
    "        # гистограмма\n",
    "        sns.histplot(data, bins=30, kde=True, color=color, ax=axes[0], stat=\"percent\")\n",
    "        axes[0].set_title(f'\\nРаспределение {column}')\n",
    "        axes[0].set_xlabel(column)\n",
    "        axes[0].set_ylabel('Доля наблюдений (%)') # Частота\n",
    "\n",
    "        # диаграмма размаха\n",
    "        sns.boxplot(data, orient='h', ax=axes[1], boxprops=dict(facecolor='none'))\n",
    "        \n",
    "        plt.tight_layout()\n",
    "        plt.show()\n",
    "\n",
    "        display(pd.DataFrame(df[column].describe()))\n",
    "\n",
    "    if len(columns_continuous) > 1:\n",
    "        \n",
    "        num_cols = 2                                                                            # количество столбцов\n",
    "        num_rows = math.ceil(len(columns_continuous) / num_cols)                                # количество строк\n",
    "        fig, axes = plt.subplots(num_rows * 2, num_cols, figsize=(7 * num_cols, 5 * num_rows),  # сетка графиков\n",
    "                                 gridspec_kw={'height_ratios': [3, 1] * num_rows})              # гистограмма 3 части, boxplot 1 часть\n",
    "        axes = np.array(axes).reshape(num_rows * 2, num_cols)                                   # преобразование в одномерную структуру\n",
    "        \n",
    "        for i, column in enumerate(columns_continuous):\n",
    "            row, col = divmod(i, num_cols)                                                      # определение позиции в сетке\n",
    "            data = df[column]\n",
    "            \n",
    "            # гистограмма\n",
    "            sns.histplot(data, bins=50, kde=True, color=color, ax=axes[row * 2, col], stat='percent')\n",
    "            axes[row * 2, col].set_title(f'\\nРаспределение {column}')\n",
    "            axes[row * 2, col].set_xlabel(column)\n",
    "            axes[row * 2, col].set_ylabel('Доля наблюдений (%)')\n",
    "    \n",
    "            # диаграмма размаха\n",
    "            sns.boxplot(data, orient='h', ax=axes[row * 2 + 1, col], boxprops=dict(facecolor='none'))\n",
    "\n",
    "        # удаление пустых графиков\n",
    "        for k in range(i+col, len(axes)):\n",
    "            fig.delaxes(axes[k, (col + 1) % num_cols])\n",
    "\n",
    "        plt.tight_layout()\n",
    "        plt.show()\n",
    "        \n",
    "        display(df[columns_continuous].describe())\n"
   ]
  },
  {
   "cell_type": "markdown",
   "id": "ac62bfc3-d9ba-4f73-9349-b3a12bcec5a8",
   "metadata": {
    "jp-MarkdownHeadingCollapsed": true
   },
   "source": [
    "#### f_plot_bar"
   ]
  },
  {
   "cell_type": "code",
   "execution_count": 6,
   "id": "04f2d0ab-e1c9-4c0c-a8f4-974579ebcc73",
   "metadata": {},
   "outputs": [],
   "source": [
    "def f_plot_bar(df, active_clients=None, top_n=5):\n",
    "    \"\"\"\n",
    "    Строит столбчатые диаграммы для всех категориальных признаков.\n",
    "\n",
    "    Args:\n",
    "        df (pd.DataFrame): Исходный датафрейм\n",
    "        active_clients (pd.Series, optional): Таблица с активными клиентами (по умолчанию не используется)\n",
    "        top_n (int):  Сколько самых частых категорий выводить на диаграмме\n",
    "    \"\"\"\n",
    "\n",
    "    # учет только активных клиентов, если список есть\n",
    "    if active_clients is not None:\n",
    "        df = df.query('id in @ active_clients') \n",
    "\n",
    "    # категориальные признаки \n",
    "    cat_col_names = df.select_dtypes(include=['object']).columns                          # выдиление категориальных признаков\n",
    "\n",
    "    num_cols = 2                                                                          # количество столбцов\n",
    "    num_rows = math.ceil(len(cat_col_names) / num_cols)                                   # количество строк\n",
    "    fig, axes = plt.subplots(num_rows, num_cols, figsize=(7*num_cols, 4*num_rows), squeeze=False)    # сетка графиков\n",
    "    axes = axes.flatten()                                                                 # преобразование в одномерную структуру \n",
    "\n",
    "    for i, column in enumerate(cat_col_names):\n",
    "        ax = axes[i]\n",
    "        \n",
    "        # частоты\n",
    "        vc = df[column].value_counts(dropna=False)\n",
    "        top = vc.head(top_n)\n",
    "        other_cnt = vc.iloc[top_n:].sum()\n",
    "        plot_series = top.copy()\n",
    "        if other_cnt:\n",
    "            plot_series['all the other'] = other_cnt\n",
    "\n",
    "        # превращение NaN в строку\n",
    "        plot_series.index = (plot_series.index.to_series().apply(lambda x: 'nan' if pd.isna(x) else str(x)))\n",
    "            \n",
    "        # цветовая палитра\n",
    "        palette = sns.color_palette('GnBu_r', len(plot_series))\n",
    "\n",
    "        total = plot_series.sum()\n",
    "        \n",
    "        # столбчатая диаграмма\n",
    "        sns.barplot(x=plot_series.values, y=plot_series.index, ax=ax,\n",
    "                    palette=palette,\n",
    "                    hue=plot_series.index,\n",
    "                    legend=False)\n",
    "\n",
    "        for container in ax.containers:\n",
    "            labels = [f'{int(bar.get_width()):,}  ({bar.get_width()/total:.1%})' for bar in container]\n",
    "            ax.bar_label(container, labels=labels, fmt='%.0f', label_type='edge', padding=3)\n",
    "            \n",
    "        ax.set_title(f'Распределение по {column}')\n",
    "        ax.set_xlabel('Количество')\n",
    "\n",
    "        sns.despine(ax=ax, top=True, right=True)   # уберёт верхнюю и правую границы\n",
    "\n",
    "    # удаление пустых графиков\n",
    "    for k in range(i + 1, len(axes)):\n",
    "        fig.delaxes(axes[k])\n",
    "    \n",
    "    plt.tight_layout()\n",
    "    plt.show()\n"
   ]
  },
  {
   "cell_type": "markdown",
   "id": "6ee25e2c-c8eb-4e88-a755-afb4d83cb9dc",
   "metadata": {
    "jp-MarkdownHeadingCollapsed": true
   },
   "source": [
    "## Шаг 1. Загрузка данных"
   ]
  },
  {
   "cell_type": "code",
   "execution_count": 7,
   "id": "bf971bf2-a550-4bd3-a328-be4d3f54df3a",
   "metadata": {
    "scrolled": true
   },
   "outputs": [
    {
     "name": "stdout",
     "output_type": "stream",
     "text": [
      "\n",
      "\n",
      "------------------------- Файл: users_go.csv -------------------------\n",
      "\n"
     ]
    },
    {
     "data": {
      "text/html": [
       "<div>\n",
       "<style scoped>\n",
       "    .dataframe tbody tr th:only-of-type {\n",
       "        vertical-align: middle;\n",
       "    }\n",
       "\n",
       "    .dataframe tbody tr th {\n",
       "        vertical-align: top;\n",
       "    }\n",
       "\n",
       "    .dataframe thead th {\n",
       "        text-align: right;\n",
       "    }\n",
       "</style>\n",
       "<table border=\"1\" class=\"dataframe\">\n",
       "  <thead>\n",
       "    <tr style=\"text-align: right;\">\n",
       "      <th></th>\n",
       "      <th>user_id</th>\n",
       "      <th>name</th>\n",
       "      <th>age</th>\n",
       "      <th>city</th>\n",
       "      <th>subscription_type</th>\n",
       "    </tr>\n",
       "  </thead>\n",
       "  <tbody>\n",
       "    <tr>\n",
       "      <th>0</th>\n",
       "      <td>1</td>\n",
       "      <td>Кира</td>\n",
       "      <td>22</td>\n",
       "      <td>Тюмень</td>\n",
       "      <td>ultra</td>\n",
       "    </tr>\n",
       "    <tr>\n",
       "      <th>1</th>\n",
       "      <td>2</td>\n",
       "      <td>Станислав</td>\n",
       "      <td>31</td>\n",
       "      <td>Омск</td>\n",
       "      <td>ultra</td>\n",
       "    </tr>\n",
       "    <tr>\n",
       "      <th>2</th>\n",
       "      <td>3</td>\n",
       "      <td>Алексей</td>\n",
       "      <td>20</td>\n",
       "      <td>Москва</td>\n",
       "      <td>ultra</td>\n",
       "    </tr>\n",
       "    <tr>\n",
       "      <th>3</th>\n",
       "      <td>4</td>\n",
       "      <td>Константин</td>\n",
       "      <td>26</td>\n",
       "      <td>Ростов-на-Дону</td>\n",
       "      <td>ultra</td>\n",
       "    </tr>\n",
       "    <tr>\n",
       "      <th>4</th>\n",
       "      <td>5</td>\n",
       "      <td>Адель</td>\n",
       "      <td>28</td>\n",
       "      <td>Омск</td>\n",
       "      <td>ultra</td>\n",
       "    </tr>\n",
       "  </tbody>\n",
       "</table>\n",
       "</div>"
      ],
      "text/plain": [
       "   user_id        name  age            city subscription_type\n",
       "0        1        Кира   22          Тюмень             ultra\n",
       "1        2   Станислав   31            Омск             ultra\n",
       "2        3     Алексей   20          Москва             ultra\n",
       "3        4  Константин   26  Ростов-на-Дону             ultra\n",
       "4        5       Адель   28            Омск             ultra"
      ]
     },
     "metadata": {},
     "output_type": "display_data"
    },
    {
     "name": "stdout",
     "output_type": "stream",
     "text": [
      "<class 'pandas.core.frame.DataFrame'>\n",
      "RangeIndex: 1565 entries, 0 to 1564\n",
      "Data columns (total 5 columns):\n",
      " #   Column             Non-Null Count  Dtype \n",
      "---  ------             --------------  ----- \n",
      " 0   user_id            1565 non-null   int64 \n",
      " 1   name               1565 non-null   object\n",
      " 2   age                1565 non-null   int64 \n",
      " 3   city               1565 non-null   object\n",
      " 4   subscription_type  1565 non-null   object\n",
      "dtypes: int64(2), object(3)\n",
      "memory usage: 61.3+ KB\n",
      "\n",
      "\n",
      "------------------------- Файл: rides_go.csv -------------------------\n",
      "\n"
     ]
    },
    {
     "data": {
      "text/html": [
       "<div>\n",
       "<style scoped>\n",
       "    .dataframe tbody tr th:only-of-type {\n",
       "        vertical-align: middle;\n",
       "    }\n",
       "\n",
       "    .dataframe tbody tr th {\n",
       "        vertical-align: top;\n",
       "    }\n",
       "\n",
       "    .dataframe thead th {\n",
       "        text-align: right;\n",
       "    }\n",
       "</style>\n",
       "<table border=\"1\" class=\"dataframe\">\n",
       "  <thead>\n",
       "    <tr style=\"text-align: right;\">\n",
       "      <th></th>\n",
       "      <th>user_id</th>\n",
       "      <th>distance</th>\n",
       "      <th>duration</th>\n",
       "      <th>date</th>\n",
       "    </tr>\n",
       "  </thead>\n",
       "  <tbody>\n",
       "    <tr>\n",
       "      <th>0</th>\n",
       "      <td>1</td>\n",
       "      <td>4409.919140</td>\n",
       "      <td>25.599769</td>\n",
       "      <td>2021-01-01</td>\n",
       "    </tr>\n",
       "    <tr>\n",
       "      <th>1</th>\n",
       "      <td>1</td>\n",
       "      <td>2617.592153</td>\n",
       "      <td>15.816871</td>\n",
       "      <td>2021-01-18</td>\n",
       "    </tr>\n",
       "    <tr>\n",
       "      <th>2</th>\n",
       "      <td>1</td>\n",
       "      <td>754.159807</td>\n",
       "      <td>6.232113</td>\n",
       "      <td>2021-04-20</td>\n",
       "    </tr>\n",
       "    <tr>\n",
       "      <th>3</th>\n",
       "      <td>1</td>\n",
       "      <td>2694.783254</td>\n",
       "      <td>18.511000</td>\n",
       "      <td>2021-08-11</td>\n",
       "    </tr>\n",
       "    <tr>\n",
       "      <th>4</th>\n",
       "      <td>1</td>\n",
       "      <td>4028.687306</td>\n",
       "      <td>26.265803</td>\n",
       "      <td>2021-08-28</td>\n",
       "    </tr>\n",
       "  </tbody>\n",
       "</table>\n",
       "</div>"
      ],
      "text/plain": [
       "   user_id     distance   duration       date\n",
       "0        1  4409.919140  25.599769 2021-01-01\n",
       "1        1  2617.592153  15.816871 2021-01-18\n",
       "2        1   754.159807   6.232113 2021-04-20\n",
       "3        1  2694.783254  18.511000 2021-08-11\n",
       "4        1  4028.687306  26.265803 2021-08-28"
      ]
     },
     "metadata": {},
     "output_type": "display_data"
    },
    {
     "name": "stdout",
     "output_type": "stream",
     "text": [
      "<class 'pandas.core.frame.DataFrame'>\n",
      "RangeIndex: 18068 entries, 0 to 18067\n",
      "Data columns (total 4 columns):\n",
      " #   Column    Non-Null Count  Dtype         \n",
      "---  ------    --------------  -----         \n",
      " 0   user_id   18068 non-null  int64         \n",
      " 1   distance  18068 non-null  float64       \n",
      " 2   duration  18068 non-null  float64       \n",
      " 3   date      18068 non-null  datetime64[ns]\n",
      "dtypes: datetime64[ns](1), float64(2), int64(1)\n",
      "memory usage: 564.8 KB\n",
      "\n",
      "\n",
      "------------------------- Файл: subscriptions_go.csv -------------------------\n",
      "\n"
     ]
    },
    {
     "data": {
      "text/html": [
       "<div>\n",
       "<style scoped>\n",
       "    .dataframe tbody tr th:only-of-type {\n",
       "        vertical-align: middle;\n",
       "    }\n",
       "\n",
       "    .dataframe tbody tr th {\n",
       "        vertical-align: top;\n",
       "    }\n",
       "\n",
       "    .dataframe thead th {\n",
       "        text-align: right;\n",
       "    }\n",
       "</style>\n",
       "<table border=\"1\" class=\"dataframe\">\n",
       "  <thead>\n",
       "    <tr style=\"text-align: right;\">\n",
       "      <th></th>\n",
       "      <th>subscription_type</th>\n",
       "      <th>minute_price</th>\n",
       "      <th>start_ride_price</th>\n",
       "      <th>subscription_fee</th>\n",
       "    </tr>\n",
       "  </thead>\n",
       "  <tbody>\n",
       "    <tr>\n",
       "      <th>0</th>\n",
       "      <td>free</td>\n",
       "      <td>8</td>\n",
       "      <td>50</td>\n",
       "      <td>0</td>\n",
       "    </tr>\n",
       "    <tr>\n",
       "      <th>1</th>\n",
       "      <td>ultra</td>\n",
       "      <td>6</td>\n",
       "      <td>0</td>\n",
       "      <td>199</td>\n",
       "    </tr>\n",
       "  </tbody>\n",
       "</table>\n",
       "</div>"
      ],
      "text/plain": [
       "  subscription_type  minute_price  start_ride_price  subscription_fee\n",
       "0              free             8                50                 0\n",
       "1             ultra             6                 0               199"
      ]
     },
     "metadata": {},
     "output_type": "display_data"
    },
    {
     "name": "stdout",
     "output_type": "stream",
     "text": [
      "<class 'pandas.core.frame.DataFrame'>\n",
      "RangeIndex: 2 entries, 0 to 1\n",
      "Data columns (total 4 columns):\n",
      " #   Column             Non-Null Count  Dtype \n",
      "---  ------             --------------  ----- \n",
      " 0   subscription_type  2 non-null      object\n",
      " 1   minute_price       2 non-null      int64 \n",
      " 2   start_ride_price   2 non-null      int64 \n",
      " 3   subscription_fee   2 non-null      int64 \n",
      "dtypes: int64(3), object(1)\n",
      "memory usage: 196.0+ bytes\n"
     ]
    }
   ],
   "source": [
    "# чтение файла users_go.csv\n",
    "df_users = f_read_and_info('users_go.csv')\n",
    "\n",
    "# чтение файла rides_go.csv\n",
    "df_rides = f_read_and_info('rides_go.csv', parse_dates=['date'])\n",
    "\n",
    "# чтение файла subscriptions_go.csv\n",
    "df_subscriptions = f_read_and_info('subscriptions_go.csv')"
   ]
  },
  {
   "cell_type": "markdown",
   "id": "5b470c03-8ea2-45fd-ace9-cb2c1d8fd003",
   "metadata": {},
   "source": [
    "В таблицах нет явных проблем, пропущенных значений нет и используются верные типы данных."
   ]
  },
  {
   "cell_type": "markdown",
   "id": "6327389d-d0c2-421a-bf28-e24beb9504a4",
   "metadata": {
    "jp-MarkdownHeadingCollapsed": true
   },
   "source": [
    "## Шаг 2. Предобработка данных"
   ]
  },
  {
   "cell_type": "markdown",
   "id": "225b18bd",
   "metadata": {
    "jp-MarkdownHeadingCollapsed": true
   },
   "source": [
    "### Создание нового столбца с номером месяца"
   ]
  },
  {
   "cell_type": "code",
   "execution_count": 8,
   "id": "1c803dca",
   "metadata": {},
   "outputs": [],
   "source": [
    "df_rides['month_date'] = pd.to_datetime(df_rides['date']).dt.month"
   ]
  },
  {
   "cell_type": "markdown",
   "id": "14bef468",
   "metadata": {
    "jp-MarkdownHeadingCollapsed": true
   },
   "source": [
    "### Обработка дублирующих записей"
   ]
  },
  {
   "cell_type": "code",
   "execution_count": 9,
   "id": "198074c0-5fe2-404a-b268-17521ad84fab",
   "metadata": {},
   "outputs": [
    {
     "name": "stdout",
     "output_type": "stream",
     "text": [
      "df_users                 : Дубликаты удалены (31)\n",
      "df_rides                 : Дубликатов нет\n"
     ]
    }
   ],
   "source": [
    "# поиск и удаление явных дубликатов \n",
    "df_users = f_drop_duplicates(df_users, 'df_users')\n",
    "df_rides = f_drop_duplicates(df_rides, 'df_rides')"
   ]
  },
  {
   "cell_type": "markdown",
   "id": "20d2b980",
   "metadata": {},
   "source": [
    "В результате предобработка данных было обнаружено и удалено 31 дублирующих записей из таблицы df_users. В таблице df_rides изначально было 18068 записей, а в df_subscriptions - 2 записи, при этом дубликатов в этих таблицах не обнаружено. Пропущенные значения отсутствуют - об этом убедились на этапе загрузки данных."
   ]
  },
  {
   "cell_type": "markdown",
   "id": "212593c7",
   "metadata": {
    "jp-MarkdownHeadingCollapsed": true
   },
   "source": [
    "## Шаг 3. Исследовательский анализ данных"
   ]
  },
  {
   "cell_type": "code",
   "execution_count": 10,
   "id": "b9167e54-2774-4167-b381-e872a206adc6",
   "metadata": {},
   "outputs": [
    {
     "data": {
      "image/png": "[encoded data removed]",
      "text/plain": [
       "<Figure size 1400x400 with 2 Axes>"
      ]
     },
     "metadata": {},
     "output_type": "display_data"
    }
   ],
   "source": [
    "# столбчатые диаграммы категориальных признаков\n",
    "f_plot_bar(df_users[['city', 'subscription_type']], top_n=10)"
   ]
  },
  {
   "cell_type": "code",
   "execution_count": 11,
   "id": "d5b39fb0-6b93-4ed2-acd0-6444198cc81a",
   "metadata": {},
   "outputs": [
    {
     "data": {
      "image/png": "[encoded data removed]",
      "text/plain": [
       "<Figure size 800x500 with 2 Axes>"
      ]
     },
     "metadata": {},
     "output_type": "display_data"
    },
    {
     "data": {
      "text/html": [
       "<div>\n",
       "<style scoped>\n",
       "    .dataframe tbody tr th:only-of-type {\n",
       "        vertical-align: middle;\n",
       "    }\n",
       "\n",
       "    .dataframe tbody tr th {\n",
       "        vertical-align: top;\n",
       "    }\n",
       "\n",
       "    .dataframe thead th {\n",
       "        text-align: right;\n",
       "    }\n",
       "</style>\n",
       "<table border=\"1\" class=\"dataframe\">\n",
       "  <thead>\n",
       "    <tr style=\"text-align: right;\">\n",
       "      <th></th>\n",
       "      <th>age</th>\n",
       "    </tr>\n",
       "  </thead>\n",
       "  <tbody>\n",
       "    <tr>\n",
       "      <th>count</th>\n",
       "      <td>1534.000000</td>\n",
       "    </tr>\n",
       "    <tr>\n",
       "      <th>mean</th>\n",
       "      <td>24.903520</td>\n",
       "    </tr>\n",
       "    <tr>\n",
       "      <th>std</th>\n",
       "      <td>4.572367</td>\n",
       "    </tr>\n",
       "    <tr>\n",
       "      <th>min</th>\n",
       "      <td>12.000000</td>\n",
       "    </tr>\n",
       "    <tr>\n",
       "      <th>25%</th>\n",
       "      <td>22.000000</td>\n",
       "    </tr>\n",
       "    <tr>\n",
       "      <th>50%</th>\n",
       "      <td>25.000000</td>\n",
       "    </tr>\n",
       "    <tr>\n",
       "      <th>75%</th>\n",
       "      <td>28.000000</td>\n",
       "    </tr>\n",
       "    <tr>\n",
       "      <th>max</th>\n",
       "      <td>43.000000</td>\n",
       "    </tr>\n",
       "  </tbody>\n",
       "</table>\n",
       "</div>"
      ],
      "text/plain": [
       "               age\n",
       "count  1534.000000\n",
       "mean     24.903520\n",
       "std       4.572367\n",
       "min      12.000000\n",
       "25%      22.000000\n",
       "50%      25.000000\n",
       "75%      28.000000\n",
       "max      43.000000"
      ]
     },
     "metadata": {},
     "output_type": "display_data"
    },
    {
     "data": {
      "image/png": "[encoded data removed]",
      "text/plain": [
       "<Figure size 1400x500 with 4 Axes>"
      ]
     },
     "metadata": {},
     "output_type": "display_data"
    },
    {
     "data": {
      "text/html": [
       "<div>\n",
       "<style scoped>\n",
       "    .dataframe tbody tr th:only-of-type {\n",
       "        vertical-align: middle;\n",
       "    }\n",
       "\n",
       "    .dataframe tbody tr th {\n",
       "        vertical-align: top;\n",
       "    }\n",
       "\n",
       "    .dataframe thead th {\n",
       "        text-align: right;\n",
       "    }\n",
       "</style>\n",
       "<table border=\"1\" class=\"dataframe\">\n",
       "  <thead>\n",
       "    <tr style=\"text-align: right;\">\n",
       "      <th></th>\n",
       "      <th>distance</th>\n",
       "      <th>duration</th>\n",
       "    </tr>\n",
       "  </thead>\n",
       "  <tbody>\n",
       "    <tr>\n",
       "      <th>count</th>\n",
       "      <td>18068.000000</td>\n",
       "      <td>18068.000000</td>\n",
       "    </tr>\n",
       "    <tr>\n",
       "      <th>mean</th>\n",
       "      <td>3070.659976</td>\n",
       "      <td>17.805011</td>\n",
       "    </tr>\n",
       "    <tr>\n",
       "      <th>std</th>\n",
       "      <td>1116.831209</td>\n",
       "      <td>6.091051</td>\n",
       "    </tr>\n",
       "    <tr>\n",
       "      <th>min</th>\n",
       "      <td>0.855683</td>\n",
       "      <td>0.500000</td>\n",
       "    </tr>\n",
       "    <tr>\n",
       "      <th>25%</th>\n",
       "      <td>2543.226360</td>\n",
       "      <td>13.597563</td>\n",
       "    </tr>\n",
       "    <tr>\n",
       "      <th>50%</th>\n",
       "      <td>3133.609994</td>\n",
       "      <td>17.678395</td>\n",
       "    </tr>\n",
       "    <tr>\n",
       "      <th>75%</th>\n",
       "      <td>3776.222735</td>\n",
       "      <td>21.724800</td>\n",
       "    </tr>\n",
       "    <tr>\n",
       "      <th>max</th>\n",
       "      <td>7211.007745</td>\n",
       "      <td>40.823963</td>\n",
       "    </tr>\n",
       "  </tbody>\n",
       "</table>\n",
       "</div>"
      ],
      "text/plain": [
       "           distance      duration\n",
       "count  18068.000000  18068.000000\n",
       "mean    3070.659976     17.805011\n",
       "std     1116.831209      6.091051\n",
       "min        0.855683      0.500000\n",
       "25%     2543.226360     13.597563\n",
       "50%     3133.609994     17.678395\n",
       "75%     3776.222735     21.724800\n",
       "max     7211.007745     40.823963"
      ]
     },
     "metadata": {},
     "output_type": "display_data"
    }
   ],
   "source": [
    "# гистограмма и диаграмма размаха для количественных признаков \n",
    "f_boxplot_histplot_describe(df_users[['age']])\n",
    "f_boxplot_histplot_describe(df_rides[['distance', 'duration']])"
   ]
  },
  {
   "cell_type": "markdown",
   "id": "fd819af3-8e42-467f-b5ca-c2293c8e6a8c",
   "metadata": {},
   "source": [
    "- `city`: В предоставленном наборе данных чаще всего встречаются пользователи из Пятигорска и Екатеринбурга (чуть более 200 записей по каждому городу). Также высока частота встречаемости городов Ростов-на-Дону, Краснодар и Сочи (примерно 190 записей). Меньше всего пользователей из Москвы (168 записей).\n",
    "- `subscription_type`: График показывает, что в наборе данных больше пользователей с бесплатным доступом (free) к сервису, чем с платной подпиской ultra (835 записей против 699), но дисбаланс не критичен.\n",
    "- `age`: Большинство пользователей находятся в возрасте от 22 до 28 лет. Пик гистограммы приходится на возрастной отметке 25 лет. Гистограмма имеет форму, близкую к нормальному распределению, с небольшим перекосом в сторону более молодых пользователей.\n",
    "- `distance`: Распределение имеет бимодальный характер, что может отражать два типа поездок. Большинство пользователей совершают поездки на расстояние до 3800 метров. Пик гистограммы приходится на расстояние около 3070 метров. Распределение асимметрично вправо, что говорит о наличии длинных поездок, которые встречаются реже. Выбросы не выглядят аномальными.\n",
    "- `duration`: Большинство поездок на самокатах длятся от 13 до 22 минут. Гистограмма имеет форму, близкую к нормальному распределению. Это означает, что большая часть поездок имеет продолжительность, близкую к средней. Для данного графика это около 17 минут."
   ]
  },
  {
   "cell_type": "markdown",
   "id": "4ef51331",
   "metadata": {
    "jp-MarkdownHeadingCollapsed": true
   },
   "source": [
    "## Шаг 4. Объединение данных"
   ]
  },
  {
   "cell_type": "markdown",
   "id": "f3a1e9b0",
   "metadata": {
    "jp-MarkdownHeadingCollapsed": true
   },
   "source": [
    "### Объединение данных о пользователях, поездках и подписках в один датафрейм"
   ]
  },
  {
   "cell_type": "code",
   "execution_count": 12,
   "id": "6acd7fc2",
   "metadata": {},
   "outputs": [
    {
     "data": {
      "text/html": [
       "<div>\n",
       "<style scoped>\n",
       "    .dataframe tbody tr th:only-of-type {\n",
       "        vertical-align: middle;\n",
       "    }\n",
       "\n",
       "    .dataframe tbody tr th {\n",
       "        vertical-align: top;\n",
       "    }\n",
       "\n",
       "    .dataframe thead th {\n",
       "        text-align: right;\n",
       "    }\n",
       "</style>\n",
       "<table border=\"1\" class=\"dataframe\">\n",
       "  <thead>\n",
       "    <tr style=\"text-align: right;\">\n",
       "      <th></th>\n",
       "      <th>user_id</th>\n",
       "      <th>name</th>\n",
       "      <th>age</th>\n",
       "      <th>city</th>\n",
       "      <th>subscription_type</th>\n",
       "      <th>distance</th>\n",
       "      <th>duration</th>\n",
       "      <th>date</th>\n",
       "      <th>month_date</th>\n",
       "      <th>minute_price</th>\n",
       "      <th>start_ride_price</th>\n",
       "      <th>subscription_fee</th>\n",
       "    </tr>\n",
       "  </thead>\n",
       "  <tbody>\n",
       "    <tr>\n",
       "      <th>0</th>\n",
       "      <td>1</td>\n",
       "      <td>Кира</td>\n",
       "      <td>22</td>\n",
       "      <td>Тюмень</td>\n",
       "      <td>ultra</td>\n",
       "      <td>4409.919140</td>\n",
       "      <td>25.599769</td>\n",
       "      <td>2021-01-01</td>\n",
       "      <td>1</td>\n",
       "      <td>6</td>\n",
       "      <td>0</td>\n",
       "      <td>199</td>\n",
       "    </tr>\n",
       "    <tr>\n",
       "      <th>1</th>\n",
       "      <td>1</td>\n",
       "      <td>Кира</td>\n",
       "      <td>22</td>\n",
       "      <td>Тюмень</td>\n",
       "      <td>ultra</td>\n",
       "      <td>2617.592153</td>\n",
       "      <td>15.816871</td>\n",
       "      <td>2021-01-18</td>\n",
       "      <td>1</td>\n",
       "      <td>6</td>\n",
       "      <td>0</td>\n",
       "      <td>199</td>\n",
       "    </tr>\n",
       "    <tr>\n",
       "      <th>2</th>\n",
       "      <td>1</td>\n",
       "      <td>Кира</td>\n",
       "      <td>22</td>\n",
       "      <td>Тюмень</td>\n",
       "      <td>ultra</td>\n",
       "      <td>754.159807</td>\n",
       "      <td>6.232113</td>\n",
       "      <td>2021-04-20</td>\n",
       "      <td>4</td>\n",
       "      <td>6</td>\n",
       "      <td>0</td>\n",
       "      <td>199</td>\n",
       "    </tr>\n",
       "    <tr>\n",
       "      <th>3</th>\n",
       "      <td>1</td>\n",
       "      <td>Кира</td>\n",
       "      <td>22</td>\n",
       "      <td>Тюмень</td>\n",
       "      <td>ultra</td>\n",
       "      <td>2694.783254</td>\n",
       "      <td>18.511000</td>\n",
       "      <td>2021-08-11</td>\n",
       "      <td>8</td>\n",
       "      <td>6</td>\n",
       "      <td>0</td>\n",
       "      <td>199</td>\n",
       "    </tr>\n",
       "    <tr>\n",
       "      <th>4</th>\n",
       "      <td>1</td>\n",
       "      <td>Кира</td>\n",
       "      <td>22</td>\n",
       "      <td>Тюмень</td>\n",
       "      <td>ultra</td>\n",
       "      <td>4028.687306</td>\n",
       "      <td>26.265803</td>\n",
       "      <td>2021-08-28</td>\n",
       "      <td>8</td>\n",
       "      <td>6</td>\n",
       "      <td>0</td>\n",
       "      <td>199</td>\n",
       "    </tr>\n",
       "    <tr>\n",
       "      <th>...</th>\n",
       "      <td>...</td>\n",
       "      <td>...</td>\n",
       "      <td>...</td>\n",
       "      <td>...</td>\n",
       "      <td>...</td>\n",
       "      <td>...</td>\n",
       "      <td>...</td>\n",
       "      <td>...</td>\n",
       "      <td>...</td>\n",
       "      <td>...</td>\n",
       "      <td>...</td>\n",
       "      <td>...</td>\n",
       "    </tr>\n",
       "    <tr>\n",
       "      <th>18063</th>\n",
       "      <td>1534</td>\n",
       "      <td>Альберт</td>\n",
       "      <td>25</td>\n",
       "      <td>Краснодар</td>\n",
       "      <td>free</td>\n",
       "      <td>3781.098080</td>\n",
       "      <td>19.822962</td>\n",
       "      <td>2021-11-04</td>\n",
       "      <td>11</td>\n",
       "      <td>8</td>\n",
       "      <td>50</td>\n",
       "      <td>0</td>\n",
       "    </tr>\n",
       "    <tr>\n",
       "      <th>18064</th>\n",
       "      <td>1534</td>\n",
       "      <td>Альберт</td>\n",
       "      <td>25</td>\n",
       "      <td>Краснодар</td>\n",
       "      <td>free</td>\n",
       "      <td>2840.423057</td>\n",
       "      <td>21.409799</td>\n",
       "      <td>2021-11-16</td>\n",
       "      <td>11</td>\n",
       "      <td>8</td>\n",
       "      <td>50</td>\n",
       "      <td>0</td>\n",
       "    </tr>\n",
       "    <tr>\n",
       "      <th>18065</th>\n",
       "      <td>1534</td>\n",
       "      <td>Альберт</td>\n",
       "      <td>25</td>\n",
       "      <td>Краснодар</td>\n",
       "      <td>free</td>\n",
       "      <td>3826.185507</td>\n",
       "      <td>18.435051</td>\n",
       "      <td>2021-11-18</td>\n",
       "      <td>11</td>\n",
       "      <td>8</td>\n",
       "      <td>50</td>\n",
       "      <td>0</td>\n",
       "    </tr>\n",
       "    <tr>\n",
       "      <th>18066</th>\n",
       "      <td>1534</td>\n",
       "      <td>Альберт</td>\n",
       "      <td>25</td>\n",
       "      <td>Краснодар</td>\n",
       "      <td>free</td>\n",
       "      <td>2902.308661</td>\n",
       "      <td>16.674362</td>\n",
       "      <td>2021-11-27</td>\n",
       "      <td>11</td>\n",
       "      <td>8</td>\n",
       "      <td>50</td>\n",
       "      <td>0</td>\n",
       "    </tr>\n",
       "    <tr>\n",
       "      <th>18067</th>\n",
       "      <td>1534</td>\n",
       "      <td>Альберт</td>\n",
       "      <td>25</td>\n",
       "      <td>Краснодар</td>\n",
       "      <td>free</td>\n",
       "      <td>2371.711192</td>\n",
       "      <td>15.893917</td>\n",
       "      <td>2021-12-29</td>\n",
       "      <td>12</td>\n",
       "      <td>8</td>\n",
       "      <td>50</td>\n",
       "      <td>0</td>\n",
       "    </tr>\n",
       "  </tbody>\n",
       "</table>\n",
       "<p>18068 rows × 12 columns</p>\n",
       "</div>"
      ],
      "text/plain": [
       "       user_id     name  age       city subscription_type     distance  \\\n",
       "0            1     Кира   22     Тюмень             ultra  4409.919140   \n",
       "1            1     Кира   22     Тюмень             ultra  2617.592153   \n",
       "2            1     Кира   22     Тюмень             ultra   754.159807   \n",
       "3            1     Кира   22     Тюмень             ultra  2694.783254   \n",
       "4            1     Кира   22     Тюмень             ultra  4028.687306   \n",
       "...        ...      ...  ...        ...               ...          ...   \n",
       "18063     1534  Альберт   25  Краснодар              free  3781.098080   \n",
       "18064     1534  Альберт   25  Краснодар              free  2840.423057   \n",
       "18065     1534  Альберт   25  Краснодар              free  3826.185507   \n",
       "18066     1534  Альберт   25  Краснодар              free  2902.308661   \n",
       "18067     1534  Альберт   25  Краснодар              free  2371.711192   \n",
       "\n",
       "        duration       date  month_date  minute_price  start_ride_price  \\\n",
       "0      25.599769 2021-01-01           1             6                 0   \n",
       "1      15.816871 2021-01-18           1             6                 0   \n",
       "2       6.232113 2021-04-20           4             6                 0   \n",
       "3      18.511000 2021-08-11           8             6                 0   \n",
       "4      26.265803 2021-08-28           8             6                 0   \n",
       "...          ...        ...         ...           ...               ...   \n",
       "18063  19.822962 2021-11-04          11             8                50   \n",
       "18064  21.409799 2021-11-16          11             8                50   \n",
       "18065  18.435051 2021-11-18          11             8                50   \n",
       "18066  16.674362 2021-11-27          11             8                50   \n",
       "18067  15.893917 2021-12-29          12             8                50   \n",
       "\n",
       "       subscription_fee  \n",
       "0                   199  \n",
       "1                   199  \n",
       "2                   199  \n",
       "3                   199  \n",
       "4                   199  \n",
       "...                 ...  \n",
       "18063                 0  \n",
       "18064                 0  \n",
       "18065                 0  \n",
       "18066                 0  \n",
       "18067                 0  \n",
       "\n",
       "[18068 rows x 12 columns]"
      ]
     },
     "execution_count": 12,
     "metadata": {},
     "output_type": "execute_result"
    }
   ],
   "source": [
    "# объединение данных\n",
    "df = df_users.merge(df_rides, on='user_id', how='left')\n",
    "df = df.merge(df_subscriptions, on='subscription_type', how='left')\n",
    "\n",
    "# вывод новой таблицы\n",
    "df"
   ]
  },
  {
   "cell_type": "markdown",
   "id": "ce87ce67",
   "metadata": {
    "jp-MarkdownHeadingCollapsed": true
   },
   "source": [
    "### Создание отдельных датафреймой c данными о пользователях без подписки и с подпиской"
   ]
  },
  {
   "cell_type": "code",
   "execution_count": 13,
   "id": "6bf288b5",
   "metadata": {},
   "outputs": [
    {
     "data": {
      "text/html": [
       "<div>\n",
       "<style scoped>\n",
       "    .dataframe tbody tr th:only-of-type {\n",
       "        vertical-align: middle;\n",
       "    }\n",
       "\n",
       "    .dataframe tbody tr th {\n",
       "        vertical-align: top;\n",
       "    }\n",
       "\n",
       "    .dataframe thead th {\n",
       "        text-align: right;\n",
       "    }\n",
       "</style>\n",
       "<table border=\"1\" class=\"dataframe\">\n",
       "  <thead>\n",
       "    <tr style=\"text-align: right;\">\n",
       "      <th></th>\n",
       "      <th>user_id</th>\n",
       "      <th>name</th>\n",
       "      <th>age</th>\n",
       "      <th>city</th>\n",
       "      <th>subscription_type</th>\n",
       "      <th>distance</th>\n",
       "      <th>duration</th>\n",
       "      <th>date</th>\n",
       "      <th>month_date</th>\n",
       "      <th>minute_price</th>\n",
       "      <th>start_ride_price</th>\n",
       "      <th>subscription_fee</th>\n",
       "    </tr>\n",
       "  </thead>\n",
       "  <tbody>\n",
       "    <tr>\n",
       "      <th>6500</th>\n",
       "      <td>700</td>\n",
       "      <td>Айдар</td>\n",
       "      <td>22</td>\n",
       "      <td>Омск</td>\n",
       "      <td>free</td>\n",
       "      <td>2515.690719</td>\n",
       "      <td>14.944286</td>\n",
       "      <td>2021-01-02</td>\n",
       "      <td>1</td>\n",
       "      <td>8</td>\n",
       "      <td>50</td>\n",
       "      <td>0</td>\n",
       "    </tr>\n",
       "    <tr>\n",
       "      <th>6501</th>\n",
       "      <td>700</td>\n",
       "      <td>Айдар</td>\n",
       "      <td>22</td>\n",
       "      <td>Омск</td>\n",
       "      <td>free</td>\n",
       "      <td>846.932642</td>\n",
       "      <td>16.234663</td>\n",
       "      <td>2021-02-01</td>\n",
       "      <td>2</td>\n",
       "      <td>8</td>\n",
       "      <td>50</td>\n",
       "      <td>0</td>\n",
       "    </tr>\n",
       "    <tr>\n",
       "      <th>6502</th>\n",
       "      <td>700</td>\n",
       "      <td>Айдар</td>\n",
       "      <td>22</td>\n",
       "      <td>Омск</td>\n",
       "      <td>free</td>\n",
       "      <td>4004.434142</td>\n",
       "      <td>20.016628</td>\n",
       "      <td>2021-02-04</td>\n",
       "      <td>2</td>\n",
       "      <td>8</td>\n",
       "      <td>50</td>\n",
       "      <td>0</td>\n",
       "    </tr>\n",
       "    <tr>\n",
       "      <th>6503</th>\n",
       "      <td>700</td>\n",
       "      <td>Айдар</td>\n",
       "      <td>22</td>\n",
       "      <td>Омск</td>\n",
       "      <td>free</td>\n",
       "      <td>1205.911290</td>\n",
       "      <td>9.782872</td>\n",
       "      <td>2021-02-10</td>\n",
       "      <td>2</td>\n",
       "      <td>8</td>\n",
       "      <td>50</td>\n",
       "      <td>0</td>\n",
       "    </tr>\n",
       "    <tr>\n",
       "      <th>6504</th>\n",
       "      <td>700</td>\n",
       "      <td>Айдар</td>\n",
       "      <td>22</td>\n",
       "      <td>Омск</td>\n",
       "      <td>free</td>\n",
       "      <td>3047.379435</td>\n",
       "      <td>17.427673</td>\n",
       "      <td>2021-02-14</td>\n",
       "      <td>2</td>\n",
       "      <td>8</td>\n",
       "      <td>50</td>\n",
       "      <td>0</td>\n",
       "    </tr>\n",
       "    <tr>\n",
       "      <th>...</th>\n",
       "      <td>...</td>\n",
       "      <td>...</td>\n",
       "      <td>...</td>\n",
       "      <td>...</td>\n",
       "      <td>...</td>\n",
       "      <td>...</td>\n",
       "      <td>...</td>\n",
       "      <td>...</td>\n",
       "      <td>...</td>\n",
       "      <td>...</td>\n",
       "      <td>...</td>\n",
       "      <td>...</td>\n",
       "    </tr>\n",
       "    <tr>\n",
       "      <th>18063</th>\n",
       "      <td>1534</td>\n",
       "      <td>Альберт</td>\n",
       "      <td>25</td>\n",
       "      <td>Краснодар</td>\n",
       "      <td>free</td>\n",
       "      <td>3781.098080</td>\n",
       "      <td>19.822962</td>\n",
       "      <td>2021-11-04</td>\n",
       "      <td>11</td>\n",
       "      <td>8</td>\n",
       "      <td>50</td>\n",
       "      <td>0</td>\n",
       "    </tr>\n",
       "    <tr>\n",
       "      <th>18064</th>\n",
       "      <td>1534</td>\n",
       "      <td>Альберт</td>\n",
       "      <td>25</td>\n",
       "      <td>Краснодар</td>\n",
       "      <td>free</td>\n",
       "      <td>2840.423057</td>\n",
       "      <td>21.409799</td>\n",
       "      <td>2021-11-16</td>\n",
       "      <td>11</td>\n",
       "      <td>8</td>\n",
       "      <td>50</td>\n",
       "      <td>0</td>\n",
       "    </tr>\n",
       "    <tr>\n",
       "      <th>18065</th>\n",
       "      <td>1534</td>\n",
       "      <td>Альберт</td>\n",
       "      <td>25</td>\n",
       "      <td>Краснодар</td>\n",
       "      <td>free</td>\n",
       "      <td>3826.185507</td>\n",
       "      <td>18.435051</td>\n",
       "      <td>2021-11-18</td>\n",
       "      <td>11</td>\n",
       "      <td>8</td>\n",
       "      <td>50</td>\n",
       "      <td>0</td>\n",
       "    </tr>\n",
       "    <tr>\n",
       "      <th>18066</th>\n",
       "      <td>1534</td>\n",
       "      <td>Альберт</td>\n",
       "      <td>25</td>\n",
       "      <td>Краснодар</td>\n",
       "      <td>free</td>\n",
       "      <td>2902.308661</td>\n",
       "      <td>16.674362</td>\n",
       "      <td>2021-11-27</td>\n",
       "      <td>11</td>\n",
       "      <td>8</td>\n",
       "      <td>50</td>\n",
       "      <td>0</td>\n",
       "    </tr>\n",
       "    <tr>\n",
       "      <th>18067</th>\n",
       "      <td>1534</td>\n",
       "      <td>Альберт</td>\n",
       "      <td>25</td>\n",
       "      <td>Краснодар</td>\n",
       "      <td>free</td>\n",
       "      <td>2371.711192</td>\n",
       "      <td>15.893917</td>\n",
       "      <td>2021-12-29</td>\n",
       "      <td>12</td>\n",
       "      <td>8</td>\n",
       "      <td>50</td>\n",
       "      <td>0</td>\n",
       "    </tr>\n",
       "  </tbody>\n",
       "</table>\n",
       "<p>11568 rows × 12 columns</p>\n",
       "</div>"
      ],
      "text/plain": [
       "       user_id     name  age       city subscription_type     distance  \\\n",
       "6500       700    Айдар   22       Омск              free  2515.690719   \n",
       "6501       700    Айдар   22       Омск              free   846.932642   \n",
       "6502       700    Айдар   22       Омск              free  4004.434142   \n",
       "6503       700    Айдар   22       Омск              free  1205.911290   \n",
       "6504       700    Айдар   22       Омск              free  3047.379435   \n",
       "...        ...      ...  ...        ...               ...          ...   \n",
       "18063     1534  Альберт   25  Краснодар              free  3781.098080   \n",
       "18064     1534  Альберт   25  Краснодар              free  2840.423057   \n",
       "18065     1534  Альберт   25  Краснодар              free  3826.185507   \n",
       "18066     1534  Альберт   25  Краснодар              free  2902.308661   \n",
       "18067     1534  Альберт   25  Краснодар              free  2371.711192   \n",
       "\n",
       "        duration       date  month_date  minute_price  start_ride_price  \\\n",
       "6500   14.944286 2021-01-02           1             8                50   \n",
       "6501   16.234663 2021-02-01           2             8                50   \n",
       "6502   20.016628 2021-02-04           2             8                50   \n",
       "6503    9.782872 2021-02-10           2             8                50   \n",
       "6504   17.427673 2021-02-14           2             8                50   \n",
       "...          ...        ...         ...           ...               ...   \n",
       "18063  19.822962 2021-11-04          11             8                50   \n",
       "18064  21.409799 2021-11-16          11             8                50   \n",
       "18065  18.435051 2021-11-18          11             8                50   \n",
       "18066  16.674362 2021-11-27          11             8                50   \n",
       "18067  15.893917 2021-12-29          12             8                50   \n",
       "\n",
       "       subscription_fee  \n",
       "6500                  0  \n",
       "6501                  0  \n",
       "6502                  0  \n",
       "6503                  0  \n",
       "6504                  0  \n",
       "...                 ...  \n",
       "18063                 0  \n",
       "18064                 0  \n",
       "18065                 0  \n",
       "18066                 0  \n",
       "18067                 0  \n",
       "\n",
       "[11568 rows x 12 columns]"
      ]
     },
     "execution_count": 13,
     "metadata": {},
     "output_type": "execute_result"
    }
   ],
   "source": [
    "# создание датафрейма c данными о пользователях без подписки\n",
    "df_subscription_free = df.query('subscription_type == \"free\"')\n",
    "\n",
    "# вывод новой таблицы\n",
    "df_subscription_free"
   ]
  },
  {
   "cell_type": "code",
   "execution_count": 14,
   "id": "d4080668",
   "metadata": {},
   "outputs": [
    {
     "data": {
      "text/html": [
       "<div>\n",
       "<style scoped>\n",
       "    .dataframe tbody tr th:only-of-type {\n",
       "        vertical-align: middle;\n",
       "    }\n",
       "\n",
       "    .dataframe tbody tr th {\n",
       "        vertical-align: top;\n",
       "    }\n",
       "\n",
       "    .dataframe thead th {\n",
       "        text-align: right;\n",
       "    }\n",
       "</style>\n",
       "<table border=\"1\" class=\"dataframe\">\n",
       "  <thead>\n",
       "    <tr style=\"text-align: right;\">\n",
       "      <th></th>\n",
       "      <th>user_id</th>\n",
       "      <th>name</th>\n",
       "      <th>age</th>\n",
       "      <th>city</th>\n",
       "      <th>subscription_type</th>\n",
       "      <th>distance</th>\n",
       "      <th>duration</th>\n",
       "      <th>date</th>\n",
       "      <th>month_date</th>\n",
       "      <th>minute_price</th>\n",
       "      <th>start_ride_price</th>\n",
       "      <th>subscription_fee</th>\n",
       "    </tr>\n",
       "  </thead>\n",
       "  <tbody>\n",
       "    <tr>\n",
       "      <th>0</th>\n",
       "      <td>1</td>\n",
       "      <td>Кира</td>\n",
       "      <td>22</td>\n",
       "      <td>Тюмень</td>\n",
       "      <td>ultra</td>\n",
       "      <td>4409.919140</td>\n",
       "      <td>25.599769</td>\n",
       "      <td>2021-01-01</td>\n",
       "      <td>1</td>\n",
       "      <td>6</td>\n",
       "      <td>0</td>\n",
       "      <td>199</td>\n",
       "    </tr>\n",
       "    <tr>\n",
       "      <th>1</th>\n",
       "      <td>1</td>\n",
       "      <td>Кира</td>\n",
       "      <td>22</td>\n",
       "      <td>Тюмень</td>\n",
       "      <td>ultra</td>\n",
       "      <td>2617.592153</td>\n",
       "      <td>15.816871</td>\n",
       "      <td>2021-01-18</td>\n",
       "      <td>1</td>\n",
       "      <td>6</td>\n",
       "      <td>0</td>\n",
       "      <td>199</td>\n",
       "    </tr>\n",
       "    <tr>\n",
       "      <th>2</th>\n",
       "      <td>1</td>\n",
       "      <td>Кира</td>\n",
       "      <td>22</td>\n",
       "      <td>Тюмень</td>\n",
       "      <td>ultra</td>\n",
       "      <td>754.159807</td>\n",
       "      <td>6.232113</td>\n",
       "      <td>2021-04-20</td>\n",
       "      <td>4</td>\n",
       "      <td>6</td>\n",
       "      <td>0</td>\n",
       "      <td>199</td>\n",
       "    </tr>\n",
       "    <tr>\n",
       "      <th>3</th>\n",
       "      <td>1</td>\n",
       "      <td>Кира</td>\n",
       "      <td>22</td>\n",
       "      <td>Тюмень</td>\n",
       "      <td>ultra</td>\n",
       "      <td>2694.783254</td>\n",
       "      <td>18.511000</td>\n",
       "      <td>2021-08-11</td>\n",
       "      <td>8</td>\n",
       "      <td>6</td>\n",
       "      <td>0</td>\n",
       "      <td>199</td>\n",
       "    </tr>\n",
       "    <tr>\n",
       "      <th>4</th>\n",
       "      <td>1</td>\n",
       "      <td>Кира</td>\n",
       "      <td>22</td>\n",
       "      <td>Тюмень</td>\n",
       "      <td>ultra</td>\n",
       "      <td>4028.687306</td>\n",
       "      <td>26.265803</td>\n",
       "      <td>2021-08-28</td>\n",
       "      <td>8</td>\n",
       "      <td>6</td>\n",
       "      <td>0</td>\n",
       "      <td>199</td>\n",
       "    </tr>\n",
       "    <tr>\n",
       "      <th>...</th>\n",
       "      <td>...</td>\n",
       "      <td>...</td>\n",
       "      <td>...</td>\n",
       "      <td>...</td>\n",
       "      <td>...</td>\n",
       "      <td>...</td>\n",
       "      <td>...</td>\n",
       "      <td>...</td>\n",
       "      <td>...</td>\n",
       "      <td>...</td>\n",
       "      <td>...</td>\n",
       "      <td>...</td>\n",
       "    </tr>\n",
       "    <tr>\n",
       "      <th>6495</th>\n",
       "      <td>699</td>\n",
       "      <td>Оксана</td>\n",
       "      <td>22</td>\n",
       "      <td>Москва</td>\n",
       "      <td>ultra</td>\n",
       "      <td>3973.046497</td>\n",
       "      <td>24.671163</td>\n",
       "      <td>2021-08-29</td>\n",
       "      <td>8</td>\n",
       "      <td>6</td>\n",
       "      <td>0</td>\n",
       "      <td>199</td>\n",
       "    </tr>\n",
       "    <tr>\n",
       "      <th>6496</th>\n",
       "      <td>699</td>\n",
       "      <td>Оксана</td>\n",
       "      <td>22</td>\n",
       "      <td>Москва</td>\n",
       "      <td>ultra</td>\n",
       "      <td>3288.702563</td>\n",
       "      <td>15.892886</td>\n",
       "      <td>2021-09-12</td>\n",
       "      <td>9</td>\n",
       "      <td>6</td>\n",
       "      <td>0</td>\n",
       "      <td>199</td>\n",
       "    </tr>\n",
       "    <tr>\n",
       "      <th>6497</th>\n",
       "      <td>699</td>\n",
       "      <td>Оксана</td>\n",
       "      <td>22</td>\n",
       "      <td>Москва</td>\n",
       "      <td>ultra</td>\n",
       "      <td>3076.159348</td>\n",
       "      <td>14.389525</td>\n",
       "      <td>2021-09-26</td>\n",
       "      <td>9</td>\n",
       "      <td>6</td>\n",
       "      <td>0</td>\n",
       "      <td>199</td>\n",
       "    </tr>\n",
       "    <tr>\n",
       "      <th>6498</th>\n",
       "      <td>699</td>\n",
       "      <td>Оксана</td>\n",
       "      <td>22</td>\n",
       "      <td>Москва</td>\n",
       "      <td>ultra</td>\n",
       "      <td>4707.845501</td>\n",
       "      <td>15.839579</td>\n",
       "      <td>2021-10-17</td>\n",
       "      <td>10</td>\n",
       "      <td>6</td>\n",
       "      <td>0</td>\n",
       "      <td>199</td>\n",
       "    </tr>\n",
       "    <tr>\n",
       "      <th>6499</th>\n",
       "      <td>699</td>\n",
       "      <td>Оксана</td>\n",
       "      <td>22</td>\n",
       "      <td>Москва</td>\n",
       "      <td>ultra</td>\n",
       "      <td>3202.890770</td>\n",
       "      <td>25.217345</td>\n",
       "      <td>2021-12-03</td>\n",
       "      <td>12</td>\n",
       "      <td>6</td>\n",
       "      <td>0</td>\n",
       "      <td>199</td>\n",
       "    </tr>\n",
       "  </tbody>\n",
       "</table>\n",
       "<p>6500 rows × 12 columns</p>\n",
       "</div>"
      ],
      "text/plain": [
       "      user_id    name  age    city subscription_type     distance   duration  \\\n",
       "0           1    Кира   22  Тюмень             ultra  4409.919140  25.599769   \n",
       "1           1    Кира   22  Тюмень             ultra  2617.592153  15.816871   \n",
       "2           1    Кира   22  Тюмень             ultra   754.159807   6.232113   \n",
       "3           1    Кира   22  Тюмень             ultra  2694.783254  18.511000   \n",
       "4           1    Кира   22  Тюмень             ultra  4028.687306  26.265803   \n",
       "...       ...     ...  ...     ...               ...          ...        ...   \n",
       "6495      699  Оксана   22  Москва             ultra  3973.046497  24.671163   \n",
       "6496      699  Оксана   22  Москва             ultra  3288.702563  15.892886   \n",
       "6497      699  Оксана   22  Москва             ultra  3076.159348  14.389525   \n",
       "6498      699  Оксана   22  Москва             ultra  4707.845501  15.839579   \n",
       "6499      699  Оксана   22  Москва             ultra  3202.890770  25.217345   \n",
       "\n",
       "           date  month_date  minute_price  start_ride_price  subscription_fee  \n",
       "0    2021-01-01           1             6                 0               199  \n",
       "1    2021-01-18           1             6                 0               199  \n",
       "2    2021-04-20           4             6                 0               199  \n",
       "3    2021-08-11           8             6                 0               199  \n",
       "4    2021-08-28           8             6                 0               199  \n",
       "...         ...         ...           ...               ...               ...  \n",
       "6495 2021-08-29           8             6                 0               199  \n",
       "6496 2021-09-12           9             6                 0               199  \n",
       "6497 2021-09-26           9             6                 0               199  \n",
       "6498 2021-10-17          10             6                 0               199  \n",
       "6499 2021-12-03          12             6                 0               199  \n",
       "\n",
       "[6500 rows x 12 columns]"
      ]
     },
     "execution_count": 14,
     "metadata": {},
     "output_type": "execute_result"
    }
   ],
   "source": [
    "# создание датафрейма c данными о пользователях с подпиской;\n",
    "df_subscription_ultra = df.query('subscription_type == \"ultra\"')\n",
    "\n",
    "# вывод новой таблицы\n",
    "df_subscription_ultra"
   ]
  },
  {
   "cell_type": "markdown",
   "id": "d62e11a0",
   "metadata": {
    "jp-MarkdownHeadingCollapsed": true
   },
   "source": [
    "### Визуализация информации о расстоянии и времени поездок для пользователей обеих категорий"
   ]
  },
  {
   "cell_type": "code",
   "execution_count": 15,
   "id": "582679b2",
   "metadata": {},
   "outputs": [
    {
     "data": {
      "image/png": "[encoded data removed]",
      "text/plain": [
       "<Figure size 1000x500 with 1 Axes>"
      ]
     },
     "metadata": {},
     "output_type": "display_data"
    }
   ],
   "source": [
    "# гистограмма расстояний для пользователей с подпиской и без\n",
    "plt.figure(figsize=(10, 5))\n",
    "plt.hist(df_subscription_free['distance'], bins=50, alpha=0.5, label='free')\n",
    "plt.hist(df_subscription_ultra['distance'], bins=50, alpha=0.5, label='ultra')\n",
    "plt.legend()\n",
    "plt.title('Распределение расстояний для пользователей с подпиской и без')\n",
    "plt.xlabel('Расстояние (в метрах)')\n",
    "plt.ylabel('Частота')\n",
    "plt.grid(True)\n",
    "plt.show()"
   ]
  },
  {
   "cell_type": "markdown",
   "id": "fd38b4ec",
   "metadata": {},
   "source": [
    "Распределения расстояний для пользователей с подпиской и без неё в целом схожи по форме — оба имеют бимодальный характер с основным пиком около 3000 м.\n",
    "Пользователи с подпиской \"ultra\" склонны совершать поездки на средние расстояния, а пользователи без подписки (free) чаще делают как очень короткие (менее 1000 м), так и очень длинные (более 5000 м) поездки. "
   ]
  },
  {
   "cell_type": "code",
   "execution_count": 16,
   "id": "3a7a2c16",
   "metadata": {},
   "outputs": [
    {
     "data": {
      "image/png": "[encoded data removed]",
      "text/plain": [
       "<Figure size 1000x500 with 1 Axes>"
      ]
     },
     "metadata": {},
     "output_type": "display_data"
    }
   ],
   "source": [
    "# гистограмма времени поездок для пользователей с подпиской и без\n",
    "plt.figure(figsize=(10, 5))\n",
    "plt.hist(df_subscription_free['duration'], bins=50, alpha=0.5, label='free')\n",
    "plt.hist(df_subscription_ultra['duration'], bins=50, alpha=0.5, label='ultra')\n",
    "plt.legend()\n",
    "plt.title('Распределение времени для пользователей с подпиской и без')\n",
    "plt.xlabel('Время (в минутах)')\n",
    "plt.ylabel('Частота')\n",
    "plt.grid(True)\n",
    "plt.show()"
   ]
  },
  {
   "cell_type": "markdown",
   "id": "7dadbcc1",
   "metadata": {},
   "source": [
    "Гистограмма времени поездок для пользователей без подписки (free) немного смещена влево относительно гистограммы для пользователей с подпиской \"ultra\". Это значит, что пользователи с подпиской, в среднем, ездят немного дольше - 18.5 минут, в то время как среднее время поездок у пользователей без подписки составляет 17.4 минуты."
   ]
  },
  {
   "cell_type": "markdown",
   "id": "402d620f",
   "metadata": {
    "jp-MarkdownHeadingCollapsed": true
   },
   "source": [
    "## Шаг 5. Подсчёт выручки"
   ]
  },
  {
   "cell_type": "markdown",
   "id": "97fcf53e",
   "metadata": {
    "jp-MarkdownHeadingCollapsed": true
   },
   "source": [
    "### Агрегация данных о поездках по пользователям и месяцам"
   ]
  },
  {
   "cell_type": "code",
   "execution_count": 17,
   "id": "411ef799",
   "metadata": {},
   "outputs": [],
   "source": [
    "# округление расстояния\n",
    "df['distance'] = np.ceil(df['distance'] * 100) / 100"
   ]
  },
  {
   "cell_type": "code",
   "execution_count": 18,
   "id": "f6fed664",
   "metadata": {},
   "outputs": [
    {
     "data": {
      "text/html": [
       "<div>\n",
       "<style scoped>\n",
       "    .dataframe tbody tr th:only-of-type {\n",
       "        vertical-align: middle;\n",
       "    }\n",
       "\n",
       "    .dataframe tbody tr th {\n",
       "        vertical-align: top;\n",
       "    }\n",
       "\n",
       "    .dataframe thead th {\n",
       "        text-align: right;\n",
       "    }\n",
       "</style>\n",
       "<table border=\"1\" class=\"dataframe\">\n",
       "  <thead>\n",
       "    <tr style=\"text-align: right;\">\n",
       "      <th></th>\n",
       "      <th>user_id</th>\n",
       "      <th>month_date</th>\n",
       "      <th>rides_count</th>\n",
       "      <th>total_distance</th>\n",
       "      <th>total_duration</th>\n",
       "    </tr>\n",
       "  </thead>\n",
       "  <tbody>\n",
       "    <tr>\n",
       "      <th>0</th>\n",
       "      <td>1</td>\n",
       "      <td>1</td>\n",
       "      <td>2</td>\n",
       "      <td>7027.52</td>\n",
       "      <td>41.416640</td>\n",
       "    </tr>\n",
       "    <tr>\n",
       "      <th>1</th>\n",
       "      <td>1</td>\n",
       "      <td>4</td>\n",
       "      <td>1</td>\n",
       "      <td>754.16</td>\n",
       "      <td>6.232113</td>\n",
       "    </tr>\n",
       "    <tr>\n",
       "      <th>2</th>\n",
       "      <td>1</td>\n",
       "      <td>8</td>\n",
       "      <td>2</td>\n",
       "      <td>6723.48</td>\n",
       "      <td>44.776802</td>\n",
       "    </tr>\n",
       "    <tr>\n",
       "      <th>3</th>\n",
       "      <td>1</td>\n",
       "      <td>10</td>\n",
       "      <td>2</td>\n",
       "      <td>5809.93</td>\n",
       "      <td>31.578017</td>\n",
       "    </tr>\n",
       "    <tr>\n",
       "      <th>4</th>\n",
       "      <td>1</td>\n",
       "      <td>11</td>\n",
       "      <td>3</td>\n",
       "      <td>7003.52</td>\n",
       "      <td>53.397424</td>\n",
       "    </tr>\n",
       "  </tbody>\n",
       "</table>\n",
       "</div>"
      ],
      "text/plain": [
       "   user_id  month_date  rides_count  total_distance  total_duration\n",
       "0        1           1            2         7027.52       41.416640\n",
       "1        1           4            1          754.16        6.232113\n",
       "2        1           8            2         6723.48       44.776802\n",
       "3        1          10            2         5809.93       31.578017\n",
       "4        1          11            3         7003.52       53.397424"
      ]
     },
     "execution_count": 18,
     "metadata": {},
     "output_type": "execute_result"
    }
   ],
   "source": [
    "# cоздание агрегированной таблицы\n",
    "df_aggregated = df.groupby(['user_id','month_date']).agg(rides_count=('user_id', 'count'), \\\n",
    "                                                         total_distance=('distance', 'sum'), \\\n",
    "                                                         total_duration=('duration', 'sum')).reset_index()\n",
    "\n",
    "# вывод новой таблицы\n",
    "df_aggregated.head()"
   ]
  },
  {
   "cell_type": "markdown",
   "id": "b6bc8486",
   "metadata": {
    "jp-MarkdownHeadingCollapsed": true
   },
   "source": [
    "###  Расчет помесячной выручки по каждому пользователю"
   ]
  },
  {
   "cell_type": "code",
   "execution_count": 19,
   "id": "12fd0f0b",
   "metadata": {},
   "outputs": [
    {
     "data": {
      "text/html": [
       "<div>\n",
       "<style scoped>\n",
       "    .dataframe tbody tr th:only-of-type {\n",
       "        vertical-align: middle;\n",
       "    }\n",
       "\n",
       "    .dataframe tbody tr th {\n",
       "        vertical-align: top;\n",
       "    }\n",
       "\n",
       "    .dataframe thead th {\n",
       "        text-align: right;\n",
       "    }\n",
       "</style>\n",
       "<table border=\"1\" class=\"dataframe\">\n",
       "  <thead>\n",
       "    <tr style=\"text-align: right;\">\n",
       "      <th></th>\n",
       "      <th>user_id</th>\n",
       "      <th>month_date</th>\n",
       "      <th>rides_count</th>\n",
       "      <th>total_distance</th>\n",
       "      <th>total_duration</th>\n",
       "      <th>subscription_type</th>\n",
       "      <th>cost_for_month</th>\n",
       "    </tr>\n",
       "  </thead>\n",
       "  <tbody>\n",
       "    <tr>\n",
       "      <th>0</th>\n",
       "      <td>1</td>\n",
       "      <td>1</td>\n",
       "      <td>2</td>\n",
       "      <td>7027.52</td>\n",
       "      <td>41.416640</td>\n",
       "      <td>ultra</td>\n",
       "      <td>451.0</td>\n",
       "    </tr>\n",
       "    <tr>\n",
       "      <th>1</th>\n",
       "      <td>1</td>\n",
       "      <td>4</td>\n",
       "      <td>1</td>\n",
       "      <td>754.16</td>\n",
       "      <td>6.232113</td>\n",
       "      <td>ultra</td>\n",
       "      <td>241.0</td>\n",
       "    </tr>\n",
       "    <tr>\n",
       "      <th>2</th>\n",
       "      <td>1</td>\n",
       "      <td>8</td>\n",
       "      <td>2</td>\n",
       "      <td>6723.48</td>\n",
       "      <td>44.776802</td>\n",
       "      <td>ultra</td>\n",
       "      <td>469.0</td>\n",
       "    </tr>\n",
       "    <tr>\n",
       "      <th>3</th>\n",
       "      <td>1</td>\n",
       "      <td>10</td>\n",
       "      <td>2</td>\n",
       "      <td>5809.93</td>\n",
       "      <td>31.578017</td>\n",
       "      <td>ultra</td>\n",
       "      <td>391.0</td>\n",
       "    </tr>\n",
       "    <tr>\n",
       "      <th>4</th>\n",
       "      <td>1</td>\n",
       "      <td>11</td>\n",
       "      <td>3</td>\n",
       "      <td>7003.52</td>\n",
       "      <td>53.397424</td>\n",
       "      <td>ultra</td>\n",
       "      <td>523.0</td>\n",
       "    </tr>\n",
       "  </tbody>\n",
       "</table>\n",
       "</div>"
      ],
      "text/plain": [
       "   user_id  month_date  rides_count  total_distance  total_duration  \\\n",
       "0        1           1            2         7027.52       41.416640   \n",
       "1        1           4            1          754.16        6.232113   \n",
       "2        1           8            2         6723.48       44.776802   \n",
       "3        1          10            2         5809.93       31.578017   \n",
       "4        1          11            3         7003.52       53.397424   \n",
       "\n",
       "  subscription_type  cost_for_month  \n",
       "0             ultra           451.0  \n",
       "1             ultra           241.0  \n",
       "2             ultra           469.0  \n",
       "3             ultra           391.0  \n",
       "4             ultra           523.0  "
      ]
     },
     "execution_count": 19,
     "metadata": {},
     "output_type": "execute_result"
    }
   ],
   "source": [
    "# промежуточная таблица с информацией о тарифе по каждому клиенту\n",
    "users_subscriptions = df[['user_id', 'minute_price', 'start_ride_price', \n",
    "                          'subscription_fee', 'subscription_type']].drop_duplicates()\n",
    "\n",
    "# объединение данных с таблицей df_aggregated\n",
    "df_aggregated = df_aggregated.merge(users_subscriptions, on='user_id', how='left')\n",
    "\n",
    "# рассчет помесячной стоимости поездки\n",
    "df_aggregated['cost_for_month'] = df_aggregated['start_ride_price'] * df_aggregated['rides_count'] + \\\n",
    "                                df_aggregated['minute_price'] * np.ceil(df_aggregated['total_duration']) + \\\n",
    "                                df_aggregated['subscription_fee']\n",
    "# удаление лишних столбцов\n",
    "df_aggregated = df_aggregated.drop(['minute_price', 'start_ride_price', 'subscription_fee'], axis=1)\n",
    "\n",
    "# вывод таблицы\n",
    "df_aggregated.head()"
   ]
  },
  {
   "cell_type": "markdown",
   "id": "41545ac0",
   "metadata": {
    "jp-MarkdownHeadingCollapsed": true
   },
   "source": [
    "## Шаг 6. Проверка гипотез"
   ]
  },
  {
   "cell_type": "markdown",
   "id": "356e0066",
   "metadata": {
    "jp-MarkdownHeadingCollapsed": true
   },
   "source": [
    "### Тратят ли пользователи с подпиской больше времени на поездки?"
   ]
  },
  {
   "cell_type": "markdown",
   "id": "26cbe8ae",
   "metadata": {},
   "source": [
    "**Гипотезы:**\n",
    "- $H_0$: средние значения времени поездок пользователей из двух групп равны.\n",
    "- $H_1$: среднее время поездки пользователей с подпиской больше, чем среднее время поездки пользователей без подписки."
   ]
  },
  {
   "cell_type": "code",
   "execution_count": 20,
   "id": "b4ae4dc9",
   "metadata": {},
   "outputs": [
    {
     "name": "stdout",
     "output_type": "stream",
     "text": [
      "p-value: 1.2804098316645618e-34\n",
      "Отвергаем нулевую гипотезу\n"
     ]
    }
   ],
   "source": [
    "# уровень статистической значимости\n",
    "alpha = 0.05\n",
    "\n",
    "# Проверка гипотезы\n",
    "results = st.ttest_ind(df_subscription_ultra['duration'], df_subscription_free['duration'], alternative='greater')\n",
    "\n",
    "print(f'p-value: {results.pvalue}')\n",
    "\n",
    "# проверяем p-value\n",
    "if results.pvalue < alpha:\n",
    "    print('Отвергаем нулевую гипотезу')\n",
    "else:\n",
    "    print('Нет оснований отвергнуть нулевую гипотезу')"
   ]
  },
  {
   "cell_type": "markdown",
   "id": "1dedf88d",
   "metadata": {},
   "source": [
    "**Вывод:**\n",
    "\n",
    "Полученное значение p-value меньше заданного уровня статистической значимости, поэтому можно отвергнуть нулевую гипотезу. Это значит, что пользователи с подпиской тратят больше времени на поездки."
   ]
  },
  {
   "cell_type": "markdown",
   "id": "44d30bfb",
   "metadata": {
    "jp-MarkdownHeadingCollapsed": true
   },
   "source": [
    "### Расстояние одной поездки в 3130 метров — оптимальное с точки зрения износа самоката?"
   ]
  },
  {
   "cell_type": "markdown",
   "id": "3047fd4e",
   "metadata": {},
   "source": [
    "**Гипотезы:**\n",
    "- $H_0$: среднее расстояние поездок пользователей с подпиской не превышает 3130 метров.\n",
    "- $H_1$: среднее расстояние поездок пользователей с подпиской превышает 3130 метров."
   ]
  },
  {
   "cell_type": "code",
   "execution_count": 21,
   "id": "36dfca62",
   "metadata": {},
   "outputs": [
    {
     "name": "stdout",
     "output_type": "stream",
     "text": [
      "p-value: 0.9195368847849785\n",
      "Нет оснований отвергнуть нулевую гипотезу\n"
     ]
    }
   ],
   "source": [
    "middle_distance = 3130\n",
    "\n",
    "# уровень статистической значимости\n",
    "alpha = 0.05 \n",
    "\n",
    "# Проверка гипотезы\n",
    "results = st.ttest_1samp(df_subscription_ultra['distance'], middle_distance, alternative='greater')\n",
    "\n",
    "print(f'p-value: {results.pvalue}')\n",
    "\n",
    "# проверяем p-value\n",
    "if results.pvalue < alpha:\n",
    "    print('Отвергаем нулевую гипотезу')\n",
    "else:\n",
    "    print('Нет оснований отвергнуть нулевую гипотезу')"
   ]
  },
  {
   "cell_type": "markdown",
   "id": "f07aa9f8",
   "metadata": {},
   "source": [
    "**Вывод:**\n",
    "\n",
    "Полученное значение p-value (0.9) больше заданного уровня статистической значимости, то есть отвергнуть нулевую гипотезу нельзя. Среднее расстояние поездок пользователей с подпиской не превышает 3130 метров."
   ]
  },
  {
   "cell_type": "markdown",
   "id": "334adfad",
   "metadata": {
    "jp-MarkdownHeadingCollapsed": true
   },
   "source": [
    "### Помесячная выручка от пользователей с подпиской по месяцам выше, чем выручка от пользователей без подписки?"
   ]
  },
  {
   "cell_type": "markdown",
   "id": "de311428",
   "metadata": {},
   "source": [
    "**Гипотезы:**\n",
    "- $H_0$: средняя помесячная выручка от пользователей с подпиской не отличается от средней помесячной выручки от пользователей без подписки.\n",
    "- $H_1$: средняя помесячная выручка от пользователей с подпиской выше, чем средняя помесячная выручка от пользователей без подписки."
   ]
  },
  {
   "cell_type": "code",
   "execution_count": 22,
   "id": "b91622ec",
   "metadata": {},
   "outputs": [
    {
     "name": "stdout",
     "output_type": "stream",
     "text": [
      "p-value: 2.8130926188487286e-35\n",
      "Отвергаем нулевую гипотезу\n"
     ]
    }
   ],
   "source": [
    "monthly_revenue_ultra = df_aggregated[df_aggregated['subscription_type'] == 'ultra']['cost_for_month']\n",
    "monthly_revenue_free = df_aggregated[df_aggregated['subscription_type'] == 'free']['cost_for_month']\n",
    "\n",
    "# уровень статистической значимости\n",
    "alpha = 0.05\n",
    "\n",
    "# Проверка гипотезы\n",
    "results = st.ttest_ind(monthly_revenue_ultra, monthly_revenue_free, alternative='greater')\n",
    "\n",
    "print(f'p-value: {results.pvalue}')\n",
    "\n",
    "# проверяем p-value\n",
    "if results.pvalue < alpha:\n",
    "    print('Отвергаем нулевую гипотезу')\n",
    "else:\n",
    "    print('Нет оснований отвергнуть нулевую гипотезу')"
   ]
  },
  {
   "cell_type": "markdown",
   "id": "1a694e1b",
   "metadata": {},
   "source": [
    "**Вывод:**\n",
    "\n",
    "Отвергаем нулевую гипотезу. Помесячная выручка от пользователей с подпиской выше, чем от пользователей без подписки."
   ]
  },
  {
   "cell_type": "markdown",
   "id": "a128b744",
   "metadata": {
    "jp-MarkdownHeadingCollapsed": true
   },
   "source": [
    "### Проверка влияния обновления сервера на количество обращений в техподдержку"
   ]
  },
  {
   "cell_type": "markdown",
   "id": "eae3678c",
   "metadata": {},
   "source": [
    "Для проверки данной гипотезы необходимо провести тест о равенстве средних для зависимых (парных) выборок\n",
    "\n",
    "**Формулировка гипотез:**\n",
    "\n",
    "- $H_0$: среднее количество обращений до и после обновления не изменилось. \n",
    "- $H_1$: среднее количество обращений после обновления уменьшилось."
   ]
  },
  {
   "cell_type": "raw",
   "id": "6e265d7d-8bc4-45cd-9466-9352f8fc39c4",
   "metadata": {},
   "source": [
    "# Пример кода \n",
    "\n",
    "# уровень статистической значимости\n",
    "alpha = 0.05 \n",
    "\n",
    "# Проверка гипотезы\n",
    "results = st.ttest_rel(before, after, alternative='less')\n",
    "\n",
    "print(f'p-value: {results.pvalue}')\n",
    "\n",
    "if results.pvalue < alpha:\n",
    "    print('Отвергаем нулевую гипотезу')\n",
    "else:\n",
    "    print('Нет оснований отвергнуть нулевую гипотезу')"
   ]
  },
  {
   "cell_type": "markdown",
   "id": "61213c5e",
   "metadata": {
    "jp-MarkdownHeadingCollapsed": true
   },
   "source": [
    "## Шаг 7. Распределения"
   ]
  },
  {
   "cell_type": "markdown",
   "id": "1f61b7ce",
   "metadata": {
    "jp-MarkdownHeadingCollapsed": true
   },
   "source": [
    "### Какое минимальное количество промокодов нужно разослать, чтобы вероятность не выполнить план была примерно 5 %"
   ]
  },
  {
   "cell_type": "code",
   "execution_count": 23,
   "id": "89486499",
   "metadata": {},
   "outputs": [
    {
     "name": "stdout",
     "output_type": "stream",
     "text": [
      "Минимальное количество промокодов для 5% вероятности невыполнения план: 1172\n"
     ]
    },
    {
     "data": {
      "image/png": "[encoded data removed]",
      "text/plain": [
       "<Figure size 1000x500 with 1 Axes>"
      ]
     },
     "metadata": {},
     "output_type": "display_data"
    }
   ],
   "source": [
    "p = 0.1  # вероятность продления подписки\n",
    "k = 100  # минимальное количество успешных исходов\n",
    "alpha = 0.05  # вероятность не выполнить план\n",
    "\n",
    "distr = []\n",
    "\n",
    "for n in range(900, 1400):\n",
    "    current_value = st.binom.cdf(k, n, p)\n",
    "    distr.append(current_value)\n",
    "\n",
    "# минимальное количество промокодов для 5% вероятности невыполнения план\n",
    "min_promocodes = np.argmax(np.array(distr) <= alpha) + 900\n",
    "\n",
    "print(f\"Минимальное количество промокодов для 5% вероятности невыполнения план: {min_promocodes}\")\n",
    "\n",
    "# график\n",
    "plt.figure(figsize=(10, 5))\n",
    "plt.plot(range(900, 1400), distr)\n",
    "plt.title('Распределение количества продлений подписки')\n",
    "plt.xlabel('Количество промокодов')\n",
    "plt.ylabel('Вероятность получить менее 100 продлений')\n",
    "plt.axhline(y=alpha, color='red', linestyle='-', linewidth=1, label='Вероятность не выполнить план')\n",
    "plt.axvline(x=min_promocodes, color=\"green\", linewidth=1, linestyle=\"-\", label='Минимальное количество промокодов')\n",
    "plt.legend()\n",
    "plt.grid(True)\n",
    "plt.show()"
   ]
  },
  {
   "cell_type": "markdown",
   "id": "8fb8b614",
   "metadata": {},
   "source": [
    "Необходимо разослать не менее 1172 промокодов, чтобы вероятность не выполнить план была примерно 5%"
   ]
  },
  {
   "cell_type": "markdown",
   "id": "784cad0e",
   "metadata": {
    "jp-MarkdownHeadingCollapsed": true
   },
   "source": [
    "###  Оценить вероятность того, что уведомление откроют не более 399,5 тыс. пользователей"
   ]
  },
  {
   "cell_type": "code",
   "execution_count": 24,
   "id": "ac7215f5",
   "metadata": {},
   "outputs": [
    {
     "name": "stdout",
     "output_type": "stream",
     "text": [
      "Вероятность того, что уведомление откроют не более 399.5 тыс. пользователей: 0.154\n"
     ]
    }
   ],
   "source": [
    "# параметры биномиального распределения\n",
    "n = 1000000  # количество уведомлений\n",
    "p = 0.4  # вероятность открытия уведомления\n",
    "\n",
    "# мат.ожиданию и ст.отклонению биномиального распределения\n",
    "mu = n * p\n",
    "sigma = math.sqrt(n * p * (1 - p))\n",
    "\n",
    "# нормальное распределение\n",
    "distr = st.norm(mu, sigma) \n",
    "\n",
    "# определение вероятности хвоста слева от 399,5 тыс.\n",
    "result = distr.cdf(399500)\n",
    "\n",
    "print(f\"Вероятность того, что уведомление откроют не более 399.5 тыс. пользователей: {result:.3f}\")"
   ]
  },
  {
   "cell_type": "code",
   "execution_count": 25,
   "id": "b4530cf7",
   "metadata": {},
   "outputs": [
    {
     "data": {
      "image/png": "[encoded data removed]",
      "text/plain": [
       "<Figure size 1000x500 with 1 Axes>"
      ]
     },
     "metadata": {},
     "output_type": "display_data"
    }
   ],
   "source": [
    "# границы промежутка, в котором будем строить аппроксимацию \n",
    "left = int(mu - 4 * sigma)\n",
    "right = int(mu + 4 * sigma)\n",
    "\n",
    "# Построение графика нормального распределения\n",
    "plt.figure(figsize=(10, 5))\n",
    "x = np.linspace(left, right, 1000)\n",
    "plt.plot(x, st.norm.pdf(x, mu, sigma))\n",
    "plt.title(\"График нормального распределения\")\n",
    "plt.xlabel(\"Количество открывших уведомление\")\n",
    "plt.ylabel(\"Плотность вероятности\")\n",
    "plt.axvline(x=399500, color=\"green\", linewidth=1, linestyle=\"-\")\n",
    "plt.show()"
   ]
  },
  {
   "cell_type": "markdown",
   "id": "f9eabec8",
   "metadata": {},
   "source": [
    "Вероятность того, что уведомление откроют не более 399,5 тыс. пользователей составляет 0.154"
   ]
  },
  {
   "cell_type": "markdown",
   "id": "533605e2",
   "metadata": {
    "jp-MarkdownHeadingCollapsed": true
   },
   "source": [
    "## Шаг 8. Общий вывод"
   ]
  },
  {
   "cell_type": "markdown",
   "id": "5803f2fc",
   "metadata": {},
   "source": [
    "Для анализа были получены данные из популярного сервиса аренды самокатов - информация о пользователях из нескольких городов, а также об их поездках. \n",
    "\n",
    "Целью исследования являлось определение ключевых характеристик пользователей сервиса и проверка гипотез о влиянии платной подписки на поведение пользователей. \n",
    "\n",
    "На этапе **предобработки данных** были выполнены следующие действия:\n",
    "- Преобразование строковой записи столбца date к типу даты pandas\n",
    "- Создание нового столбца с номером месяца. Это необходимо для дальнейшего анализа\n",
    "- Удаление дубликатов из таблицы с информацией о пользователях (31 строка)\n",
    "\n",
    "Поскольку данные были предоставлены в качественном формате, то дальнейшая сложная предобработка не потребовалась.\n",
    "\n",
    "**Исследовательский анализ** данных показал следующие ключевые особенности:\n",
    "\n",
    "- Пользователи преимущественно сосредоточены в Пятигорске, Екатеринбурге, Ростове-на-Дону, Краснодаре и Сочи. Количество пользователей из Москвы значительно ниже, чем из других городов\n",
    "- В наборе данных значительно больше пользователей с бесплатным доступом к сервису по сравнению с пользователями с платной подпиской ultra\n",
    "- Большинство пользователей имеют возраст от 22 до 28 лет, с пиком в 25 лет\n",
    "- Большинство поездок на самокатах совершаются на относительно короткие расстояния (до 3800 метров), с пиком около 3070 метров\n",
    "- Большинство поездок на самокатах длятся от 13 до 22 минут, с пиком около 17 минут\n",
    "- Пользователи с подпиской \"ultra\" склонны к более стандартным поездкам - средняя продолжительность и среднее расстояние\n",
    "- Пользователи с бесплатным доступом (free) чаще совершают как очень короткие (менее 1000 м), так и очень длинные (более 5000 м) поездки по сравнению с пользователями с подпиской ultra\n",
    "- Среднее время поездок у пользователей с подпиской \"ultra\" чуть больше, чем у пользователей без подписки (18.5 мин. и 17,4 мин соответственно)\n",
    "\n",
    "**Проверка гипотез** показала следующие выводы:\n",
    "\n",
    "- Пользователи с подпиской тратят больше времени на поездки\n",
    "- Среднее расстояние, которое проезжают пользователи с подпиской за одну поездку, не превышает 3130 метров\n",
    "- Помесячная выручка от пользователей с подпиской выше, чем выручка от пользователей без подписки\n",
    "\n",
    "\n",
    "Дополнительно для отдела маркетинга было сделано:\n",
    "- Найдено минимальное количество промокодов для выполнения плана продаж на 95%: количество промокодов 1172 \n",
    "- Найдена вероятность того, что уведомление откроют не более 399,5 тыс. пользователей из 1 млн: вероятность 0.154"
   ]
  }
 ],
 "metadata": {
  "ExecuteTimeLog": [
   {
    "duration": 48,
    "start_time": "2024-10-29T20:15:25.165Z"
   },
   {
    "duration": 374,
    "start_time": "2024-10-29T20:15:31.448Z"
   },
   {
    "duration": 141,
    "start_time": "2024-10-29T20:15:32.782Z"
   },
   {
    "duration": 17,
    "start_time": "2024-10-29T20:15:40.195Z"
   },
   {
    "duration": 52,
    "start_time": "2024-10-29T20:18:06.954Z"
   },
   {
    "duration": 70,
    "start_time": "2024-10-29T20:24:21.483Z"
   },
   {
    "duration": 57,
    "start_time": "2024-10-29T20:25:02.082Z"
   },
   {
    "duration": 217,
    "start_time": "2024-10-29T20:25:55.886Z"
   },
   {
    "duration": 65,
    "start_time": "2024-10-29T20:26:58.402Z"
   },
   {
    "duration": 66,
    "start_time": "2024-10-29T20:26:59.574Z"
   },
   {
    "duration": 108,
    "start_time": "2024-10-29T20:27:01.542Z"
   },
   {
    "duration": 81,
    "start_time": "2024-10-29T20:28:28.341Z"
   },
   {
    "duration": 61,
    "start_time": "2024-10-29T20:28:32.234Z"
   },
   {
    "duration": 73,
    "start_time": "2024-10-29T20:28:44.182Z"
   },
   {
    "duration": 61,
    "start_time": "2024-10-29T20:28:53.182Z"
   },
   {
    "duration": 10,
    "start_time": "2024-10-29T20:29:42.245Z"
   },
   {
    "duration": 11,
    "start_time": "2024-10-29T20:30:13.525Z"
   },
   {
    "duration": 9,
    "start_time": "2024-10-29T20:30:28.334Z"
   },
   {
    "duration": 51,
    "start_time": "2024-10-29T20:34:42.595Z"
   },
   {
    "duration": 68,
    "start_time": "2024-10-29T20:35:28.834Z"
   },
   {
    "duration": 12,
    "start_time": "2024-10-29T20:40:33.554Z"
   },
   {
    "duration": 8,
    "start_time": "2024-10-29T20:40:50.800Z"
   },
   {
    "duration": 7,
    "start_time": "2024-10-29T20:42:36.572Z"
   },
   {
    "duration": 8,
    "start_time": "2024-10-29T20:42:39.953Z"
   },
   {
    "duration": 11,
    "start_time": "2024-10-29T20:43:01.054Z"
   },
   {
    "duration": 3,
    "start_time": "2024-10-29T20:44:16.385Z"
   },
   {
    "duration": 787,
    "start_time": "2024-10-29T20:45:23.462Z"
   },
   {
    "duration": 52,
    "start_time": "2024-10-29T20:45:44.536Z"
   },
   {
    "duration": 14,
    "start_time": "2024-10-29T20:45:48.274Z"
   },
   {
    "duration": 11,
    "start_time": "2024-10-29T20:47:50.686Z"
   },
   {
    "duration": 15,
    "start_time": "2024-10-29T20:48:07.273Z"
   },
   {
    "duration": 5,
    "start_time": "2024-10-29T20:48:47.622Z"
   },
   {
    "duration": 6,
    "start_time": "2024-10-29T20:48:58.438Z"
   },
   {
    "duration": 6,
    "start_time": "2024-10-29T20:50:05.898Z"
   },
   {
    "duration": 6,
    "start_time": "2024-10-29T20:50:10.315Z"
   },
   {
    "duration": 7,
    "start_time": "2024-10-29T20:51:23.274Z"
   },
   {
    "duration": 12,
    "start_time": "2024-10-29T20:52:03.426Z"
   },
   {
    "duration": 5,
    "start_time": "2024-10-29T20:52:57.875Z"
   },
   {
    "duration": 12,
    "start_time": "2024-10-29T20:53:48.866Z"
   },
   {
    "duration": 5,
    "start_time": "2024-10-29T20:54:03.374Z"
   },
   {
    "duration": 6,
    "start_time": "2024-10-29T20:54:20.414Z"
   },
   {
    "duration": 13,
    "start_time": "2024-10-29T20:54:42.433Z"
   },
   {
    "duration": 11,
    "start_time": "2024-10-29T20:54:50.616Z"
   },
   {
    "duration": 6,
    "start_time": "2024-10-29T20:55:07.325Z"
   },
   {
    "duration": 18,
    "start_time": "2024-10-29T20:55:12.623Z"
   },
   {
    "duration": 12,
    "start_time": "2024-10-29T20:56:09.896Z"
   },
   {
    "duration": 5,
    "start_time": "2024-10-29T20:56:16.605Z"
   },
   {
    "duration": 8,
    "start_time": "2024-10-29T20:57:04.044Z"
   },
   {
    "duration": 13,
    "start_time": "2024-10-29T20:57:09.917Z"
   },
   {
    "duration": 9,
    "start_time": "2024-10-29T20:57:40.492Z"
   },
   {
    "duration": 17,
    "start_time": "2024-10-29T20:58:01.056Z"
   },
   {
    "duration": 45,
    "start_time": "2024-10-29T20:58:46.524Z"
   },
   {
    "duration": 945,
    "start_time": "2024-10-29T20:59:48.345Z"
   },
   {
    "duration": 15,
    "start_time": "2024-10-29T21:00:06.885Z"
   },
   {
    "duration": 13,
    "start_time": "2024-10-29T21:00:52.672Z"
   },
   {
    "duration": 8,
    "start_time": "2024-10-29T21:02:22.565Z"
   },
   {
    "duration": 2,
    "start_time": "2024-10-29T21:04:43.905Z"
   },
   {
    "duration": 2,
    "start_time": "2024-10-29T21:05:41.785Z"
   },
   {
    "duration": 2,
    "start_time": "2024-10-29T21:05:47.944Z"
   },
   {
    "duration": 2,
    "start_time": "2024-10-29T21:06:43.105Z"
   },
   {
    "duration": 11,
    "start_time": "2024-10-29T21:09:19.137Z"
   },
   {
    "duration": 376,
    "start_time": "2024-10-29T21:10:18.370Z"
   },
   {
    "duration": 3,
    "start_time": "2024-10-29T21:10:47.565Z"
   },
   {
    "duration": 14,
    "start_time": "2024-10-29T21:10:52.533Z"
   },
   {
    "duration": 149,
    "start_time": "2024-10-29T21:12:17.444Z"
   },
   {
    "duration": 121,
    "start_time": "2024-10-29T21:12:25.646Z"
   },
   {
    "duration": 172,
    "start_time": "2024-10-29T21:12:28.945Z"
   },
   {
    "duration": 254,
    "start_time": "2024-10-29T21:13:15.013Z"
   },
   {
    "duration": 198,
    "start_time": "2024-10-29T21:13:27.593Z"
   },
   {
    "duration": 171,
    "start_time": "2024-10-29T21:13:34.697Z"
   },
   {
    "duration": 168,
    "start_time": "2024-10-29T21:17:50.065Z"
   },
   {
    "duration": 117,
    "start_time": "2024-10-29T21:17:54.459Z"
   },
   {
    "duration": 113,
    "start_time": "2024-10-29T21:18:03.545Z"
   },
   {
    "duration": 116,
    "start_time": "2024-10-29T21:18:14.424Z"
   },
   {
    "duration": 105,
    "start_time": "2024-10-29T21:18:17.345Z"
   },
   {
    "duration": 116,
    "start_time": "2024-10-29T21:18:23.725Z"
   },
   {
    "duration": 85,
    "start_time": "2024-10-29T21:18:32.526Z"
   },
   {
    "duration": 103,
    "start_time": "2024-10-29T21:18:39.095Z"
   },
   {
    "duration": 200,
    "start_time": "2024-10-29T21:18:51.426Z"
   },
   {
    "duration": 158,
    "start_time": "2024-10-29T21:18:57.693Z"
   },
   {
    "duration": 4,
    "start_time": "2024-10-29T21:20:14.147Z"
   },
   {
    "duration": 4,
    "start_time": "2024-10-29T21:20:23.753Z"
   },
   {
    "duration": 3,
    "start_time": "2024-10-29T21:20:38.685Z"
   },
   {
    "duration": 4,
    "start_time": "2024-10-29T21:20:42.185Z"
   },
   {
    "duration": 4,
    "start_time": "2024-10-29T21:20:47.046Z"
   },
   {
    "duration": 129,
    "start_time": "2024-10-29T21:21:09.565Z"
   },
   {
    "duration": 108,
    "start_time": "2024-10-29T21:22:06.158Z"
   },
   {
    "duration": 135,
    "start_time": "2024-10-29T21:22:13.078Z"
   },
   {
    "duration": 171,
    "start_time": "2024-10-29T21:22:17.945Z"
   },
   {
    "duration": 141,
    "start_time": "2024-10-29T21:22:25.890Z"
   },
   {
    "duration": 137,
    "start_time": "2024-10-29T21:23:23.478Z"
   },
   {
    "duration": 163,
    "start_time": "2024-10-29T21:23:47.326Z"
   },
   {
    "duration": 165,
    "start_time": "2024-10-29T21:23:57.613Z"
   },
   {
    "duration": 131,
    "start_time": "2024-10-29T21:24:11.323Z"
   },
   {
    "duration": 223,
    "start_time": "2024-10-29T21:24:32.433Z"
   },
   {
    "duration": 746,
    "start_time": "2024-10-30T17:06:34.414Z"
   },
   {
    "duration": 135,
    "start_time": "2024-10-30T17:06:38.212Z"
   },
   {
    "duration": 11,
    "start_time": "2024-10-30T17:06:40.104Z"
   },
   {
    "duration": 198,
    "start_time": "2024-10-30T17:06:43.113Z"
   },
   {
    "duration": 10,
    "start_time": "2024-10-30T17:06:43.595Z"
   },
   {
    "duration": 113,
    "start_time": "2024-10-30T17:06:47.074Z"
   },
   {
    "duration": 8,
    "start_time": "2024-10-30T17:06:48.825Z"
   },
   {
    "duration": 8,
    "start_time": "2024-10-30T17:06:51.375Z"
   },
   {
    "duration": 11,
    "start_time": "2024-10-30T17:06:53.384Z"
   },
   {
    "duration": 11,
    "start_time": "2024-10-30T17:06:54.881Z"
   },
   {
    "duration": 7,
    "start_time": "2024-10-30T17:07:52.414Z"
   },
   {
    "duration": 5,
    "start_time": "2024-10-30T17:08:02.583Z"
   },
   {
    "duration": 10,
    "start_time": "2024-10-30T17:08:24.424Z"
   },
   {
    "duration": 5,
    "start_time": "2024-10-30T17:08:44.396Z"
   },
   {
    "duration": 6,
    "start_time": "2024-10-30T17:09:30.484Z"
   },
   {
    "duration": 6,
    "start_time": "2024-10-30T17:09:37.905Z"
   },
   {
    "duration": 5,
    "start_time": "2024-10-30T17:09:45.154Z"
   },
   {
    "duration": 8,
    "start_time": "2024-10-30T17:09:58.543Z"
   },
   {
    "duration": 7,
    "start_time": "2024-10-30T17:10:03.423Z"
   },
   {
    "duration": 170,
    "start_time": "2024-10-30T17:10:44.312Z"
   },
   {
    "duration": 188,
    "start_time": "2024-10-30T17:12:02.244Z"
   },
   {
    "duration": 174,
    "start_time": "2024-10-30T17:12:36.604Z"
   },
   {
    "duration": 144,
    "start_time": "2024-10-30T17:12:56.344Z"
   },
   {
    "duration": 190,
    "start_time": "2024-10-30T17:13:36.205Z"
   },
   {
    "duration": 171,
    "start_time": "2024-10-30T17:13:49.043Z"
   },
   {
    "duration": 225,
    "start_time": "2024-10-30T17:14:05.607Z"
   },
   {
    "duration": 180,
    "start_time": "2024-10-30T17:14:16.123Z"
   },
   {
    "duration": 165,
    "start_time": "2024-10-30T17:14:27.923Z"
   },
   {
    "duration": 166,
    "start_time": "2024-10-30T17:14:47.775Z"
   },
   {
    "duration": 150,
    "start_time": "2024-10-30T17:15:07.963Z"
   },
   {
    "duration": 135,
    "start_time": "2024-10-30T17:15:11.815Z"
   },
   {
    "duration": 135,
    "start_time": "2024-10-30T17:16:16.134Z"
   },
   {
    "duration": 183,
    "start_time": "2024-10-30T17:22:04.243Z"
   },
   {
    "duration": 142,
    "start_time": "2024-10-30T17:22:58.525Z"
   },
   {
    "duration": 72,
    "start_time": "2024-10-30T17:36:27.835Z"
   },
   {
    "duration": 98,
    "start_time": "2024-10-30T17:36:50.193Z"
   },
   {
    "duration": 113,
    "start_time": "2024-10-30T17:37:14.967Z"
   },
   {
    "duration": 107,
    "start_time": "2024-10-30T17:37:23.331Z"
   },
   {
    "duration": 14,
    "start_time": "2024-10-30T17:39:37.615Z"
   },
   {
    "duration": 109,
    "start_time": "2024-10-30T17:40:05.727Z"
   },
   {
    "duration": 92,
    "start_time": "2024-10-30T17:42:44.561Z"
   },
   {
    "duration": 16,
    "start_time": "2024-10-30T17:42:48.964Z"
   },
   {
    "duration": 14,
    "start_time": "2024-10-30T17:42:54.021Z"
   },
   {
    "duration": 851,
    "start_time": "2024-10-30T17:44:23.453Z"
   },
   {
    "duration": 25,
    "start_time": "2024-10-30T17:44:39.353Z"
   },
   {
    "duration": 944,
    "start_time": "2024-10-30T17:45:04.871Z"
   },
   {
    "duration": 11,
    "start_time": "2024-10-30T17:45:33.030Z"
   },
   {
    "duration": 12,
    "start_time": "2024-10-30T17:46:22.702Z"
   },
   {
    "duration": 6,
    "start_time": "2024-10-30T17:46:57.055Z"
   },
   {
    "duration": 6,
    "start_time": "2024-10-30T17:47:11.293Z"
   },
   {
    "duration": 8,
    "start_time": "2024-10-30T17:47:48.515Z"
   },
   {
    "duration": 6,
    "start_time": "2024-10-30T17:47:57.413Z"
   },
   {
    "duration": 152,
    "start_time": "2024-10-30T17:51:12.180Z"
   },
   {
    "duration": 134,
    "start_time": "2024-10-30T17:51:21.896Z"
   },
   {
    "duration": 147,
    "start_time": "2024-10-30T17:51:29.246Z"
   },
   {
    "duration": 148,
    "start_time": "2024-10-30T17:51:40.799Z"
   },
   {
    "duration": 191,
    "start_time": "2024-10-30T17:51:49.020Z"
   },
   {
    "duration": 133,
    "start_time": "2024-10-30T17:51:54.457Z"
   },
   {
    "duration": 136,
    "start_time": "2024-10-30T17:52:13.175Z"
   },
   {
    "duration": 155,
    "start_time": "2024-10-30T17:54:15.398Z"
   },
   {
    "duration": 187,
    "start_time": "2024-10-30T17:54:18.778Z"
   },
   {
    "duration": 177,
    "start_time": "2024-10-30T17:54:25.739Z"
   },
   {
    "duration": 164,
    "start_time": "2024-10-30T17:54:30.839Z"
   },
   {
    "duration": 172,
    "start_time": "2024-10-30T17:58:53.798Z"
   },
   {
    "duration": 164,
    "start_time": "2024-10-30T17:59:14.419Z"
   },
   {
    "duration": 157,
    "start_time": "2024-10-30T17:59:49.118Z"
   },
   {
    "duration": 140,
    "start_time": "2024-10-30T18:00:08.257Z"
   },
   {
    "duration": 172,
    "start_time": "2024-10-30T18:00:17.198Z"
   },
   {
    "duration": 9,
    "start_time": "2024-10-30T18:08:52.638Z"
   },
   {
    "duration": 16,
    "start_time": "2024-10-30T18:08:57.397Z"
   },
   {
    "duration": 7,
    "start_time": "2024-10-30T18:11:15.958Z"
   },
   {
    "duration": 17,
    "start_time": "2024-10-30T18:11:21.050Z"
   },
   {
    "duration": 10,
    "start_time": "2024-10-30T18:12:34.878Z"
   },
   {
    "duration": 21,
    "start_time": "2024-10-30T18:14:10.519Z"
   },
   {
    "duration": 15,
    "start_time": "2024-10-30T18:14:12.378Z"
   },
   {
    "duration": 18,
    "start_time": "2024-10-30T18:14:13.212Z"
   },
   {
    "duration": 6,
    "start_time": "2024-10-30T18:16:53.577Z"
   },
   {
    "duration": 10,
    "start_time": "2024-10-30T18:17:29.418Z"
   },
   {
    "duration": 16,
    "start_time": "2024-10-30T18:17:39.058Z"
   },
   {
    "duration": 6,
    "start_time": "2024-10-30T18:18:23.058Z"
   },
   {
    "duration": 5,
    "start_time": "2024-10-30T18:19:01.488Z"
   },
   {
    "duration": 15,
    "start_time": "2024-10-30T18:19:07.577Z"
   },
   {
    "duration": 6,
    "start_time": "2024-10-30T18:19:25.057Z"
   },
   {
    "duration": 14,
    "start_time": "2024-10-30T18:19:35.058Z"
   },
   {
    "duration": 20,
    "start_time": "2024-10-30T18:20:52.206Z"
   },
   {
    "duration": 20,
    "start_time": "2024-10-30T18:21:00.626Z"
   },
   {
    "duration": 144,
    "start_time": "2024-10-30T18:35:32.324Z"
   },
   {
    "duration": 478,
    "start_time": "2024-10-30T18:45:44.938Z"
   },
   {
    "duration": 110,
    "start_time": "2024-10-30T18:46:53.677Z"
   },
   {
    "duration": 148,
    "start_time": "2024-10-30T18:47:02.508Z"
   },
   {
    "duration": 169,
    "start_time": "2024-10-30T18:47:08.525Z"
   },
   {
    "duration": 171,
    "start_time": "2024-10-30T18:47:15.585Z"
   },
   {
    "duration": 137,
    "start_time": "2024-10-30T18:47:25.237Z"
   },
   {
    "duration": 148,
    "start_time": "2024-10-30T18:50:15.608Z"
   },
   {
    "duration": 170,
    "start_time": "2024-10-30T18:54:13.077Z"
   },
   {
    "duration": 166,
    "start_time": "2024-10-30T18:55:13.427Z"
   },
   {
    "duration": 142,
    "start_time": "2024-10-30T18:58:15.608Z"
   },
   {
    "duration": 145,
    "start_time": "2024-10-30T18:58:45.581Z"
   },
   {
    "duration": 311,
    "start_time": "2024-10-30T19:00:47.069Z"
   },
   {
    "duration": 255,
    "start_time": "2024-10-30T19:01:30.249Z"
   },
   {
    "duration": 248,
    "start_time": "2024-10-30T19:02:04.061Z"
   },
   {
    "duration": 257,
    "start_time": "2024-10-30T19:03:07.881Z"
   },
   {
    "duration": 260,
    "start_time": "2024-10-30T19:03:19.743Z"
   },
   {
    "duration": 310,
    "start_time": "2024-10-30T19:03:27.757Z"
   },
   {
    "duration": 270,
    "start_time": "2024-10-30T19:03:41.312Z"
   },
   {
    "duration": 159,
    "start_time": "2024-10-30T19:03:47.249Z"
   },
   {
    "duration": 177,
    "start_time": "2024-10-30T19:03:58.625Z"
   },
   {
    "duration": 301,
    "start_time": "2024-10-30T19:04:31.102Z"
   },
   {
    "duration": 272,
    "start_time": "2024-10-30T19:04:58.623Z"
   },
   {
    "duration": 151,
    "start_time": "2024-10-30T19:05:16.569Z"
   },
   {
    "duration": 228,
    "start_time": "2024-10-30T19:05:23.373Z"
   },
   {
    "duration": 3,
    "start_time": "2024-10-30T19:06:05.631Z"
   },
   {
    "duration": 124,
    "start_time": "2024-10-30T19:06:12.381Z"
   },
   {
    "duration": 102,
    "start_time": "2024-10-30T19:06:22.945Z"
   },
   {
    "duration": 157,
    "start_time": "2024-10-30T19:06:26.942Z"
   },
   {
    "duration": 149,
    "start_time": "2024-10-30T19:06:29.737Z"
   },
   {
    "duration": 175,
    "start_time": "2024-10-30T19:06:32.701Z"
   },
   {
    "duration": 153,
    "start_time": "2024-10-30T19:06:36.801Z"
   },
   {
    "duration": 163,
    "start_time": "2024-10-30T19:06:40.661Z"
   },
   {
    "duration": 264,
    "start_time": "2024-10-30T19:06:45.489Z"
   },
   {
    "duration": 301,
    "start_time": "2024-10-30T19:07:07.782Z"
   },
   {
    "duration": 145,
    "start_time": "2024-10-30T19:09:13.861Z"
   },
   {
    "duration": 156,
    "start_time": "2024-10-30T19:09:15.816Z"
   },
   {
    "duration": 249,
    "start_time": "2024-10-30T19:09:21.437Z"
   },
   {
    "duration": 166,
    "start_time": "2024-10-30T19:09:36.142Z"
   },
   {
    "duration": 164,
    "start_time": "2024-10-30T19:09:41.207Z"
   },
   {
    "duration": 16,
    "start_time": "2024-10-30T19:21:06.876Z"
   },
   {
    "duration": 11,
    "start_time": "2024-10-30T19:26:24.055Z"
   },
   {
    "duration": 17,
    "start_time": "2024-10-30T19:34:38.013Z"
   },
   {
    "duration": 14,
    "start_time": "2024-10-30T19:34:43.113Z"
   },
   {
    "duration": 2,
    "start_time": "2024-10-30T19:38:12.582Z"
   },
   {
    "duration": 11,
    "start_time": "2024-10-30T19:38:18.204Z"
   },
   {
    "duration": 17,
    "start_time": "2024-10-30T19:38:32.242Z"
   },
   {
    "duration": 10,
    "start_time": "2024-10-30T19:38:38.823Z"
   },
   {
    "duration": 22,
    "start_time": "2024-10-30T19:39:00.282Z"
   },
   {
    "duration": 17,
    "start_time": "2024-10-30T19:39:06.443Z"
   },
   {
    "duration": 15,
    "start_time": "2024-10-30T19:39:09.095Z"
   },
   {
    "duration": 14,
    "start_time": "2024-10-30T19:39:11.782Z"
   },
   {
    "duration": 12,
    "start_time": "2024-10-30T19:39:16.302Z"
   },
   {
    "duration": 17,
    "start_time": "2024-10-30T19:43:42.461Z"
   },
   {
    "duration": 11,
    "start_time": "2024-10-30T19:43:47.850Z"
   },
   {
    "duration": 15,
    "start_time": "2024-10-30T19:44:04.904Z"
   },
   {
    "duration": 11,
    "start_time": "2024-10-30T19:44:06.374Z"
   },
   {
    "duration": 16,
    "start_time": "2024-10-30T19:44:10.642Z"
   },
   {
    "duration": 1,
    "start_time": "2024-10-30T19:44:12.574Z"
   },
   {
    "duration": 18,
    "start_time": "2024-10-30T19:44:19.982Z"
   },
   {
    "duration": 13,
    "start_time": "2024-10-30T19:44:23.546Z"
   },
   {
    "duration": 73,
    "start_time": "2024-10-30T19:45:12.562Z"
   },
   {
    "duration": 15,
    "start_time": "2024-10-30T19:45:56.708Z"
   },
   {
    "duration": 17,
    "start_time": "2024-10-30T19:46:01.162Z"
   },
   {
    "duration": 10,
    "start_time": "2024-10-30T19:46:09.742Z"
   },
   {
    "duration": 7,
    "start_time": "2024-10-30T19:48:27.262Z"
   },
   {
    "duration": 21,
    "start_time": "2024-10-30T19:49:36.142Z"
   },
   {
    "duration": 12,
    "start_time": "2024-10-30T19:49:47.241Z"
   },
   {
    "duration": 1,
    "start_time": "2024-10-30T19:49:53.242Z"
   },
   {
    "duration": 15,
    "start_time": "2024-10-30T19:55:36.721Z"
   },
   {
    "duration": 6,
    "start_time": "2024-10-30T19:55:57.341Z"
   },
   {
    "duration": 10,
    "start_time": "2024-10-30T19:57:37.542Z"
   },
   {
    "duration": 2,
    "start_time": "2024-10-30T20:00:01.603Z"
   },
   {
    "duration": 10,
    "start_time": "2024-10-30T20:00:18.041Z"
   },
   {
    "duration": 4,
    "start_time": "2024-10-30T20:02:38.231Z"
   },
   {
    "duration": 20,
    "start_time": "2024-10-30T20:02:44.681Z"
   },
   {
    "duration": 8,
    "start_time": "2024-10-30T20:06:00.161Z"
   },
   {
    "duration": 8,
    "start_time": "2024-10-30T20:06:49.861Z"
   },
   {
    "duration": 10,
    "start_time": "2024-10-30T20:08:47.042Z"
   },
   {
    "duration": 16,
    "start_time": "2024-10-30T20:08:50.323Z"
   },
   {
    "duration": 8,
    "start_time": "2024-10-30T20:09:41.921Z"
   },
   {
    "duration": 7,
    "start_time": "2024-10-30T20:10:53.103Z"
   },
   {
    "duration": 2,
    "start_time": "2024-10-30T20:15:17.883Z"
   },
   {
    "duration": 8,
    "start_time": "2024-10-30T20:15:31.841Z"
   },
   {
    "duration": 9,
    "start_time": "2024-10-30T20:15:41.162Z"
   },
   {
    "duration": 7,
    "start_time": "2024-10-30T20:18:55.742Z"
   },
   {
    "duration": 16,
    "start_time": "2024-10-30T20:18:58.867Z"
   },
   {
    "duration": 19,
    "start_time": "2024-10-30T20:22:34.510Z"
   },
   {
    "duration": 10,
    "start_time": "2024-10-30T20:22:42.211Z"
   },
   {
    "duration": 20,
    "start_time": "2024-10-30T20:24:42.147Z"
   },
   {
    "duration": 12,
    "start_time": "2024-10-30T20:24:44.527Z"
   },
   {
    "duration": 2,
    "start_time": "2024-10-30T20:25:42.687Z"
   },
   {
    "duration": 10,
    "start_time": "2024-10-30T20:28:20.018Z"
   },
   {
    "duration": 10,
    "start_time": "2024-10-30T20:28:23.719Z"
   },
   {
    "duration": 14,
    "start_time": "2024-10-30T20:28:27.159Z"
   },
   {
    "duration": 12,
    "start_time": "2024-10-30T20:29:19.287Z"
   },
   {
    "duration": 1083,
    "start_time": "2024-10-30T20:29:40.270Z"
   },
   {
    "duration": 1375,
    "start_time": "2024-10-30T20:29:54.610Z"
   },
   {
    "duration": 1292,
    "start_time": "2024-10-30T20:30:09.175Z"
   },
   {
    "duration": 1148,
    "start_time": "2024-10-30T20:30:12.429Z"
   },
   {
    "duration": 20,
    "start_time": "2024-10-30T20:30:16.469Z"
   },
   {
    "duration": 1419,
    "start_time": "2024-10-30T20:30:31.488Z"
   },
   {
    "duration": 20,
    "start_time": "2024-10-30T20:32:40.407Z"
   },
   {
    "duration": 21,
    "start_time": "2024-10-30T20:32:46.098Z"
   },
   {
    "duration": 8,
    "start_time": "2024-10-30T20:32:50.410Z"
   },
   {
    "duration": 8,
    "start_time": "2024-10-30T20:32:54.567Z"
   },
   {
    "duration": 13,
    "start_time": "2024-10-30T20:33:01.287Z"
   },
   {
    "duration": 7,
    "start_time": "2024-10-30T20:33:27.567Z"
   },
   {
    "duration": 11,
    "start_time": "2024-10-30T20:33:30.511Z"
   },
   {
    "duration": 3,
    "start_time": "2024-10-30T20:38:54.367Z"
   },
   {
    "duration": 8,
    "start_time": "2024-10-30T20:38:55.407Z"
   },
   {
    "duration": 17,
    "start_time": "2024-10-30T20:38:59.523Z"
   },
   {
    "duration": 18,
    "start_time": "2024-10-30T20:39:24.689Z"
   },
   {
    "duration": 7,
    "start_time": "2024-10-30T20:39:37.604Z"
   },
   {
    "duration": 12,
    "start_time": "2024-10-30T20:40:18.327Z"
   },
   {
    "duration": 7,
    "start_time": "2024-10-30T20:40:21.677Z"
   },
   {
    "duration": 1283,
    "start_time": "2024-10-30T20:40:53.001Z"
   },
   {
    "duration": 4,
    "start_time": "2024-10-30T20:41:08.887Z"
   },
   {
    "duration": 8,
    "start_time": "2024-10-30T20:41:11.090Z"
   },
   {
    "duration": 9,
    "start_time": "2024-10-30T20:42:04.548Z"
   },
   {
    "duration": 3,
    "start_time": "2024-10-30T20:42:12.828Z"
   },
   {
    "duration": 7,
    "start_time": "2024-10-30T20:42:14.886Z"
   },
   {
    "duration": 2,
    "start_time": "2024-10-30T20:44:12.071Z"
   },
   {
    "duration": 2,
    "start_time": "2024-10-30T20:44:48.396Z"
   },
   {
    "duration": 5,
    "start_time": "2024-10-30T20:45:10.312Z"
   },
   {
    "duration": 3,
    "start_time": "2024-10-30T20:45:15.616Z"
   },
   {
    "duration": 18,
    "start_time": "2024-10-30T20:45:18.543Z"
   },
   {
    "duration": 4,
    "start_time": "2024-10-30T20:46:01.087Z"
   },
   {
    "duration": 19,
    "start_time": "2024-10-30T20:46:02.667Z"
   },
   {
    "duration": 9,
    "start_time": "2024-10-30T20:49:44.808Z"
   },
   {
    "duration": 2,
    "start_time": "2024-10-30T20:49:58.686Z"
   },
   {
    "duration": 18,
    "start_time": "2024-10-30T20:50:13.628Z"
   },
   {
    "duration": 11,
    "start_time": "2024-10-30T20:51:55.167Z"
   },
   {
    "duration": 4,
    "start_time": "2024-10-30T20:52:44.087Z"
   },
   {
    "duration": 6,
    "start_time": "2024-10-30T20:52:47.759Z"
   },
   {
    "duration": 12,
    "start_time": "2024-10-30T20:52:54.108Z"
   },
   {
    "duration": 3,
    "start_time": "2024-10-30T20:53:02.268Z"
   },
   {
    "duration": 6,
    "start_time": "2024-10-30T20:54:49.147Z"
   },
   {
    "duration": 8,
    "start_time": "2024-10-30T20:54:52.028Z"
   },
   {
    "duration": 7,
    "start_time": "2024-10-30T20:54:56.927Z"
   },
   {
    "duration": 1308,
    "start_time": "2024-10-30T20:58:51.007Z"
   },
   {
    "duration": 8,
    "start_time": "2024-10-30T20:58:52.378Z"
   },
   {
    "duration": 4,
    "start_time": "2024-10-30T20:59:16.684Z"
   },
   {
    "duration": 8,
    "start_time": "2024-10-30T20:59:18.888Z"
   },
   {
    "duration": 19,
    "start_time": "2024-10-30T20:59:32.129Z"
   },
   {
    "duration": 8,
    "start_time": "2024-10-30T21:04:34.509Z"
   },
   {
    "duration": 5,
    "start_time": "2024-10-30T21:04:39.163Z"
   },
   {
    "duration": 7,
    "start_time": "2024-10-30T21:04:41.948Z"
   },
   {
    "duration": 8,
    "start_time": "2024-10-30T21:04:54.708Z"
   },
   {
    "duration": 10,
    "start_time": "2024-10-30T21:04:57.387Z"
   },
   {
    "duration": 11,
    "start_time": "2024-10-30T21:07:53.055Z"
   },
   {
    "duration": 18,
    "start_time": "2024-10-30T21:07:54.574Z"
   },
   {
    "duration": 10,
    "start_time": "2024-10-30T21:14:24.388Z"
   },
   {
    "duration": 14,
    "start_time": "2024-10-30T21:14:28.987Z"
   },
   {
    "duration": 1107,
    "start_time": "2024-10-30T21:14:49.528Z"
   },
   {
    "duration": 11,
    "start_time": "2024-10-30T21:15:18.948Z"
   },
   {
    "duration": 16,
    "start_time": "2024-10-30T21:15:23.459Z"
   },
   {
    "duration": 20,
    "start_time": "2024-10-30T21:15:31.489Z"
   },
   {
    "duration": 11,
    "start_time": "2024-10-30T21:15:34.608Z"
   },
   {
    "duration": 12,
    "start_time": "2024-10-30T21:15:36.317Z"
   },
   {
    "duration": 4,
    "start_time": "2024-10-30T21:15:54.268Z"
   },
   {
    "duration": 10,
    "start_time": "2024-10-30T21:15:55.556Z"
   },
   {
    "duration": 10,
    "start_time": "2024-10-30T21:16:53.048Z"
   },
   {
    "duration": 7,
    "start_time": "2024-10-30T21:17:40.949Z"
   },
   {
    "duration": 544,
    "start_time": "2024-10-30T21:40:49.468Z"
   },
   {
    "duration": 71,
    "start_time": "2024-10-30T21:41:10.971Z"
   },
   {
    "duration": 71,
    "start_time": "2024-10-30T21:41:17.289Z"
   },
   {
    "duration": 10,
    "start_time": "2024-10-30T21:41:58.688Z"
   },
   {
    "duration": 5,
    "start_time": "2024-10-30T21:42:22.248Z"
   },
   {
    "duration": 4,
    "start_time": "2024-10-30T21:42:28.068Z"
   },
   {
    "duration": 5,
    "start_time": "2024-10-30T21:42:32.644Z"
   },
   {
    "duration": 860,
    "start_time": "2024-10-31T17:28:44.686Z"
   },
   {
    "duration": 152,
    "start_time": "2024-10-31T17:28:45.548Z"
   },
   {
    "duration": 18,
    "start_time": "2024-10-31T17:28:45.702Z"
   },
   {
    "duration": 495,
    "start_time": "2024-10-31T17:28:45.722Z"
   },
   {
    "duration": 11,
    "start_time": "2024-10-31T17:28:46.219Z"
   },
   {
    "duration": 121,
    "start_time": "2024-10-31T17:28:46.232Z"
   },
   {
    "duration": 11,
    "start_time": "2024-10-31T17:28:46.355Z"
   },
   {
    "duration": 9,
    "start_time": "2024-10-31T17:28:46.367Z"
   },
   {
    "duration": 36,
    "start_time": "2024-10-31T17:28:46.378Z"
   },
   {
    "duration": 6,
    "start_time": "2024-10-31T17:28:46.415Z"
   },
   {
    "duration": 14,
    "start_time": "2024-10-31T17:28:46.423Z"
   },
   {
    "duration": 28,
    "start_time": "2024-10-31T17:28:46.438Z"
   },
   {
    "duration": 4,
    "start_time": "2024-10-31T17:28:46.468Z"
   },
   {
    "duration": 4,
    "start_time": "2024-10-31T17:28:46.475Z"
   },
   {
    "duration": 188,
    "start_time": "2024-10-31T17:28:46.481Z"
   },
   {
    "duration": 151,
    "start_time": "2024-10-31T17:28:46.670Z"
   },
   {
    "duration": 191,
    "start_time": "2024-10-31T17:28:46.823Z"
   },
   {
    "duration": 260,
    "start_time": "2024-10-31T17:28:47.016Z"
   },
   {
    "duration": 211,
    "start_time": "2024-10-31T17:28:47.278Z"
   },
   {
    "duration": 17,
    "start_time": "2024-10-31T17:28:47.491Z"
   },
   {
    "duration": 57,
    "start_time": "2024-10-31T17:28:47.509Z"
   },
   {
    "duration": 20,
    "start_time": "2024-10-31T17:28:47.567Z"
   },
   {
    "duration": 17,
    "start_time": "2024-10-31T17:28:47.588Z"
   },
   {
    "duration": 356,
    "start_time": "2024-10-31T17:28:47.606Z"
   },
   {
    "duration": 348,
    "start_time": "2024-10-31T17:28:47.963Z"
   },
   {
    "duration": 3,
    "start_time": "2024-10-31T17:28:48.313Z"
   },
   {
    "duration": 55,
    "start_time": "2024-10-31T17:28:48.317Z"
   },
   {
    "duration": 2,
    "start_time": "2024-10-31T17:28:48.374Z"
   },
   {
    "duration": 20,
    "start_time": "2024-10-31T17:28:48.377Z"
   },
   {
    "duration": 10,
    "start_time": "2024-10-31T17:28:48.398Z"
   },
   {
    "duration": 559,
    "start_time": "2024-10-31T17:28:48.409Z"
   },
   {
    "duration": 104,
    "start_time": "2024-10-31T17:35:53.627Z"
   },
   {
    "duration": 5,
    "start_time": "2024-10-31T17:36:03.314Z"
   },
   {
    "duration": 6,
    "start_time": "2024-10-31T17:37:41.986Z"
   },
   {
    "duration": 6,
    "start_time": "2024-10-31T18:03:56.034Z"
   },
   {
    "duration": 12,
    "start_time": "2024-10-31T18:06:25.848Z"
   },
   {
    "duration": 6,
    "start_time": "2024-10-31T18:06:34.821Z"
   },
   {
    "duration": 6,
    "start_time": "2024-10-31T18:16:48.435Z"
   },
   {
    "duration": 3,
    "start_time": "2024-10-31T18:19:09.140Z"
   },
   {
    "duration": 18,
    "start_time": "2024-10-31T18:22:44.144Z"
   },
   {
    "duration": 21,
    "start_time": "2024-10-31T18:22:50.420Z"
   },
   {
    "duration": 13,
    "start_time": "2024-10-31T18:23:41.820Z"
   },
   {
    "duration": 10,
    "start_time": "2024-10-31T18:23:52.640Z"
   },
   {
    "duration": 19,
    "start_time": "2024-10-31T18:24:07.940Z"
   },
   {
    "duration": 10,
    "start_time": "2024-10-31T18:26:15.000Z"
   },
   {
    "duration": 19,
    "start_time": "2024-10-31T18:26:22.620Z"
   },
   {
    "duration": 45,
    "start_time": "2024-10-31T18:26:53.881Z"
   },
   {
    "duration": 19,
    "start_time": "2024-10-31T18:26:57.388Z"
   },
   {
    "duration": 10,
    "start_time": "2024-10-31T18:27:00.568Z"
   },
   {
    "duration": 16,
    "start_time": "2024-10-31T18:27:29.400Z"
   },
   {
    "duration": 767,
    "start_time": "2024-10-31T18:28:15.271Z"
   },
   {
    "duration": 27,
    "start_time": "2024-10-31T18:28:56.149Z"
   },
   {
    "duration": 8,
    "start_time": "2024-10-31T18:29:13.700Z"
   },
   {
    "duration": 10,
    "start_time": "2024-10-31T18:29:25.390Z"
   },
   {
    "duration": 10,
    "start_time": "2024-10-31T18:31:53.740Z"
   },
   {
    "duration": 13,
    "start_time": "2024-10-31T18:38:40.648Z"
   },
   {
    "duration": 7,
    "start_time": "2024-10-31T18:46:18.100Z"
   },
   {
    "duration": 6,
    "start_time": "2024-10-31T18:46:31.519Z"
   },
   {
    "duration": 12,
    "start_time": "2024-10-31T19:03:08.425Z"
   },
   {
    "duration": 168,
    "start_time": "2024-10-31T19:03:19.038Z"
   },
   {
    "duration": 2,
    "start_time": "2024-10-31T19:04:12.691Z"
   },
   {
    "duration": 330,
    "start_time": "2024-10-31T19:08:59.474Z"
   },
   {
    "duration": 3256,
    "start_time": "2024-10-31T19:22:11.418Z"
   },
   {
    "duration": 308,
    "start_time": "2024-10-31T19:22:44.474Z"
   },
   {
    "duration": 395,
    "start_time": "2024-10-31T19:22:56.578Z"
   },
   {
    "duration": 3343,
    "start_time": "2024-10-31T19:23:00.174Z"
   },
   {
    "duration": 6,
    "start_time": "2024-10-31T19:54:40.840Z"
   },
   {
    "duration": 7,
    "start_time": "2024-10-31T19:54:45.238Z"
   },
   {
    "duration": 3,
    "start_time": "2024-10-31T20:04:42.107Z"
   },
   {
    "duration": 14,
    "start_time": "2024-10-31T20:06:55.474Z"
   },
   {
    "duration": 266,
    "start_time": "2024-10-31T20:09:19.888Z"
   },
   {
    "duration": 528,
    "start_time": "2024-10-31T20:10:24.338Z"
   },
   {
    "duration": 338,
    "start_time": "2024-10-31T20:10:44.858Z"
   },
   {
    "duration": 3,
    "start_time": "2024-10-31T20:11:07.339Z"
   },
   {
    "duration": 132,
    "start_time": "2024-10-31T20:12:54.078Z"
   },
   {
    "duration": 5,
    "start_time": "2024-10-31T20:13:05.898Z"
   },
   {
    "duration": 16,
    "start_time": "2024-10-31T20:13:12.827Z"
   },
   {
    "duration": 1855,
    "start_time": "2024-10-31T20:13:49.330Z"
   },
   {
    "duration": 3,
    "start_time": "2024-10-31T20:14:46.838Z"
   },
   {
    "duration": 6,
    "start_time": "2024-10-31T20:16:15.906Z"
   },
   {
    "duration": 6,
    "start_time": "2024-10-31T20:16:24.858Z"
   },
   {
    "duration": 188,
    "start_time": "2024-10-31T20:17:53.258Z"
   },
   {
    "duration": 16,
    "start_time": "2024-10-31T20:18:00.310Z"
   },
   {
    "duration": 333,
    "start_time": "2024-10-31T20:19:52.178Z"
   },
   {
    "duration": 2597,
    "start_time": "2024-10-31T20:21:55.138Z"
   },
   {
    "duration": 681,
    "start_time": "2024-10-31T20:22:05.406Z"
   },
   {
    "duration": 331,
    "start_time": "2024-10-31T20:24:34.746Z"
   },
   {
    "duration": 310,
    "start_time": "2024-10-31T20:24:53.979Z"
   },
   {
    "duration": 309,
    "start_time": "2024-10-31T20:25:07.256Z"
   },
   {
    "duration": 311,
    "start_time": "2024-10-31T20:26:54.926Z"
   },
   {
    "duration": 327,
    "start_time": "2024-10-31T20:28:06.967Z"
   },
   {
    "duration": 337,
    "start_time": "2024-10-31T20:29:20.498Z"
   },
   {
    "duration": 2,
    "start_time": "2024-10-31T20:30:06.586Z"
   },
   {
    "duration": 327,
    "start_time": "2024-10-31T20:30:29.318Z"
   },
   {
    "duration": 369,
    "start_time": "2024-10-31T20:37:55.347Z"
   },
   {
    "duration": 340,
    "start_time": "2024-10-31T20:41:04.899Z"
   },
   {
    "duration": 4,
    "start_time": "2024-10-31T20:41:10.258Z"
   },
   {
    "duration": 332,
    "start_time": "2024-10-31T20:43:40.299Z"
   },
   {
    "duration": 4,
    "start_time": "2024-10-31T20:43:44.239Z"
   },
   {
    "duration": 372,
    "start_time": "2024-10-31T20:44:03.820Z"
   },
   {
    "duration": 208,
    "start_time": "2024-10-31T20:46:00.446Z"
   },
   {
    "duration": 232,
    "start_time": "2024-10-31T20:46:18.387Z"
   },
   {
    "duration": 226,
    "start_time": "2024-10-31T20:48:06.720Z"
   },
   {
    "duration": 333,
    "start_time": "2024-10-31T20:49:25.000Z"
   },
   {
    "duration": 339,
    "start_time": "2024-10-31T20:50:16.979Z"
   },
   {
    "duration": 310,
    "start_time": "2024-10-31T20:50:58.204Z"
   },
   {
    "duration": 310,
    "start_time": "2024-10-31T20:51:35.600Z"
   },
   {
    "duration": 314,
    "start_time": "2024-10-31T20:51:41.288Z"
   },
   {
    "duration": 203,
    "start_time": "2024-10-31T20:52:14.108Z"
   },
   {
    "duration": 204,
    "start_time": "2024-10-31T20:52:31.060Z"
   },
   {
    "duration": 223,
    "start_time": "2024-10-31T20:52:54.729Z"
   },
   {
    "duration": 321,
    "start_time": "2024-10-31T20:53:01.960Z"
   },
   {
    "duration": 307,
    "start_time": "2024-10-31T20:53:12.507Z"
   },
   {
    "duration": 315,
    "start_time": "2024-10-31T20:54:17.719Z"
   },
   {
    "duration": 346,
    "start_time": "2024-10-31T20:55:19.688Z"
   },
   {
    "duration": 2,
    "start_time": "2024-10-31T21:04:32.519Z"
   },
   {
    "duration": 6,
    "start_time": "2024-10-31T21:09:14.149Z"
   },
   {
    "duration": 163,
    "start_time": "2024-10-31T21:09:17.940Z"
   },
   {
    "duration": 5,
    "start_time": "2024-10-31T21:09:20.310Z"
   },
   {
    "duration": 6,
    "start_time": "2024-10-31T21:13:48.847Z"
   },
   {
    "duration": 4,
    "start_time": "2024-10-31T21:14:16.409Z"
   },
   {
    "duration": 1206,
    "start_time": "2024-10-31T21:26:39.232Z"
   },
   {
    "duration": 80,
    "start_time": "2024-10-31T21:37:32.059Z"
   },
   {
    "duration": 11,
    "start_time": "2024-10-31T21:37:33.750Z"
   },
   {
    "duration": 86,
    "start_time": "2024-10-31T21:37:36.730Z"
   },
   {
    "duration": 12,
    "start_time": "2024-10-31T21:37:38.877Z"
   },
   {
    "duration": 68,
    "start_time": "2024-10-31T21:37:44.420Z"
   },
   {
    "duration": 10,
    "start_time": "2024-10-31T21:37:46.460Z"
   },
   {
    "duration": 8,
    "start_time": "2024-10-31T21:43:25.640Z"
   },
   {
    "duration": 7,
    "start_time": "2024-10-31T21:46:39.300Z"
   },
   {
    "duration": 17,
    "start_time": "2024-10-31T21:46:42.959Z"
   },
   {
    "duration": 6,
    "start_time": "2024-10-31T21:46:44.832Z"
   },
   {
    "duration": 6,
    "start_time": "2024-10-31T21:46:47.351Z"
   },
   {
    "duration": 9,
    "start_time": "2024-10-31T21:47:05.360Z"
   },
   {
    "duration": 7,
    "start_time": "2024-10-31T22:00:04.628Z"
   },
   {
    "duration": 6,
    "start_time": "2024-10-31T22:00:06.351Z"
   },
   {
    "duration": 8,
    "start_time": "2024-10-31T22:00:12.659Z"
   },
   {
    "duration": 52,
    "start_time": "2024-11-01T17:54:51.455Z"
   },
   {
    "duration": 1321,
    "start_time": "2024-11-01T17:55:00.060Z"
   },
   {
    "duration": 178,
    "start_time": "2024-11-01T17:55:06.503Z"
   },
   {
    "duration": 12,
    "start_time": "2024-11-01T17:55:07.372Z"
   },
   {
    "duration": 256,
    "start_time": "2024-11-01T17:55:10.560Z"
   },
   {
    "duration": 12,
    "start_time": "2024-11-01T17:55:10.970Z"
   },
   {
    "duration": 128,
    "start_time": "2024-11-01T17:55:12.153Z"
   },
   {
    "duration": 11,
    "start_time": "2024-11-01T17:55:14.772Z"
   },
   {
    "duration": 9,
    "start_time": "2024-11-01T17:55:17.192Z"
   },
   {
    "duration": 16,
    "start_time": "2024-11-01T17:55:17.918Z"
   },
   {
    "duration": 8,
    "start_time": "2024-11-01T17:55:18.460Z"
   },
   {
    "duration": 6,
    "start_time": "2024-11-01T17:55:19.252Z"
   },
   {
    "duration": 8,
    "start_time": "2024-11-01T17:55:19.994Z"
   },
   {
    "duration": 165,
    "start_time": "2024-11-01T17:55:25.760Z"
   },
   {
    "duration": 6,
    "start_time": "2024-11-01T18:02:09.891Z"
   },
   {
    "duration": 128,
    "start_time": "2024-11-01T18:08:25.751Z"
   },
   {
    "duration": 100,
    "start_time": "2024-11-01T18:15:50.164Z"
   },
   {
    "duration": 302,
    "start_time": "2024-11-01T18:16:07.552Z"
   },
   {
    "duration": 104,
    "start_time": "2024-11-01T18:16:36.523Z"
   },
   {
    "duration": 182,
    "start_time": "2024-11-01T18:24:15.673Z"
   },
   {
    "duration": 218,
    "start_time": "2024-11-01T18:24:18.433Z"
   },
   {
    "duration": 150,
    "start_time": "2024-11-01T18:27:19.792Z"
   },
   {
    "duration": 283,
    "start_time": "2024-11-01T18:37:18.677Z"
   },
   {
    "duration": 194,
    "start_time": "2024-11-01T18:37:21.176Z"
   },
   {
    "duration": 131,
    "start_time": "2024-11-01T18:39:01.317Z"
   },
   {
    "duration": 22,
    "start_time": "2024-11-01T18:52:18.435Z"
   },
   {
    "duration": 12,
    "start_time": "2024-11-01T18:52:20.083Z"
   },
   {
    "duration": 19,
    "start_time": "2024-11-01T18:52:31.007Z"
   },
   {
    "duration": 23,
    "start_time": "2024-11-01T18:52:38.399Z"
   },
   {
    "duration": 348,
    "start_time": "2024-11-01T18:53:02.675Z"
   },
   {
    "duration": 327,
    "start_time": "2024-11-01T18:59:25.466Z"
   },
   {
    "duration": 117,
    "start_time": "2024-11-01T19:05:29.930Z"
   },
   {
    "duration": 108,
    "start_time": "2024-11-01T19:06:19.946Z"
   },
   {
    "duration": 131,
    "start_time": "2024-11-01T19:11:41.367Z"
   },
   {
    "duration": 19,
    "start_time": "2024-11-01T19:12:12.727Z"
   },
   {
    "duration": 14,
    "start_time": "2024-11-01T19:12:18.166Z"
   },
   {
    "duration": 13,
    "start_time": "2024-11-01T19:12:23.926Z"
   },
   {
    "duration": 13,
    "start_time": "2024-11-01T19:12:31.446Z"
   },
   {
    "duration": 423,
    "start_time": "2024-11-01T19:14:01.527Z"
   },
   {
    "duration": 13,
    "start_time": "2024-11-01T19:14:12.566Z"
   },
   {
    "duration": 27,
    "start_time": "2024-11-01T19:25:43.730Z"
   },
   {
    "duration": 27,
    "start_time": "2024-11-01T19:26:32.274Z"
   },
   {
    "duration": 17,
    "start_time": "2024-11-01T19:27:10.646Z"
   },
   {
    "duration": 14,
    "start_time": "2024-11-01T19:27:12.194Z"
   },
   {
    "duration": 6,
    "start_time": "2024-11-01T19:27:43.606Z"
   },
   {
    "duration": 5,
    "start_time": "2024-11-01T19:44:24.247Z"
   },
   {
    "duration": 10,
    "start_time": "2024-11-01T19:59:08.187Z"
   },
   {
    "duration": 66,
    "start_time": "2024-11-01T20:20:35.307Z"
   },
   {
    "duration": 323,
    "start_time": "2024-11-01T20:24:34.093Z"
   },
   {
    "duration": 326,
    "start_time": "2024-11-01T20:28:08.275Z"
   },
   {
    "duration": 7,
    "start_time": "2024-11-01T20:37:49.132Z"
   },
   {
    "duration": 9,
    "start_time": "2024-11-01T20:37:51.434Z"
   },
   {
    "duration": 154,
    "start_time": "2024-11-01T20:38:55.650Z"
   },
   {
    "duration": 109,
    "start_time": "2024-11-01T20:41:04.406Z"
   },
   {
    "duration": 157,
    "start_time": "2024-11-01T20:41:33.605Z"
   },
   {
    "duration": 166,
    "start_time": "2024-11-01T20:42:28.450Z"
   },
   {
    "duration": 151,
    "start_time": "2024-11-01T20:45:54.537Z"
   },
   {
    "duration": 159,
    "start_time": "2024-11-01T20:46:23.645Z"
   },
   {
    "duration": 6,
    "start_time": "2024-11-01T20:47:33.765Z"
   },
   {
    "duration": 166,
    "start_time": "2024-11-01T20:50:18.573Z"
   },
   {
    "duration": 2,
    "start_time": "2024-11-01T20:50:18.741Z"
   },
   {
    "duration": 32197,
    "start_time": "2024-11-01T20:50:23.086Z"
   },
   {
    "duration": 14,
    "start_time": "2024-11-01T20:56:10.448Z"
   },
   {
    "duration": 12,
    "start_time": "2024-11-01T20:57:19.895Z"
   },
   {
    "duration": 13,
    "start_time": "2024-11-01T20:58:34.086Z"
   },
   {
    "duration": 11,
    "start_time": "2024-11-01T20:58:53.967Z"
   },
   {
    "duration": 170,
    "start_time": "2024-11-01T20:59:10.690Z"
   },
   {
    "duration": 181,
    "start_time": "2024-11-01T20:59:59.090Z"
   },
   {
    "duration": 167,
    "start_time": "2024-11-01T21:00:47.171Z"
   },
   {
    "duration": 159,
    "start_time": "2024-11-01T21:01:13.731Z"
   },
   {
    "duration": 162,
    "start_time": "2024-11-01T21:01:16.878Z"
   },
   {
    "duration": 170,
    "start_time": "2024-11-01T21:01:59.330Z"
   },
   {
    "duration": 163,
    "start_time": "2024-11-01T21:02:04.171Z"
   },
   {
    "duration": 179,
    "start_time": "2024-11-01T21:02:08.391Z"
   },
   {
    "duration": 167,
    "start_time": "2024-11-01T21:02:15.966Z"
   },
   {
    "duration": 159,
    "start_time": "2024-11-01T21:03:24.530Z"
   },
   {
    "duration": 256,
    "start_time": "2024-11-01T21:04:42.716Z"
   },
   {
    "duration": 168,
    "start_time": "2024-11-01T21:04:48.770Z"
   },
   {
    "duration": 272,
    "start_time": "2024-11-01T21:05:39.717Z"
   },
   {
    "duration": 276,
    "start_time": "2024-11-01T21:05:48.006Z"
   },
   {
    "duration": 290,
    "start_time": "2024-11-01T21:06:01.491Z"
   },
   {
    "duration": 276,
    "start_time": "2024-11-01T21:06:07.730Z"
   },
   {
    "duration": 6,
    "start_time": "2024-11-01T21:06:26.151Z"
   },
   {
    "duration": 155,
    "start_time": "2024-11-01T21:07:11.131Z"
   },
   {
    "duration": 5,
    "start_time": "2024-11-01T21:07:19.763Z"
   },
   {
    "duration": 5,
    "start_time": "2024-11-01T21:08:03.171Z"
   },
   {
    "duration": 276,
    "start_time": "2024-11-01T21:09:18.512Z"
   },
   {
    "duration": 358,
    "start_time": "2024-11-01T21:09:39.911Z"
   },
   {
    "duration": 323,
    "start_time": "2024-11-01T21:09:43.990Z"
   },
   {
    "duration": 268,
    "start_time": "2024-11-01T21:09:50.312Z"
   },
   {
    "duration": 1174,
    "start_time": "2024-11-01T22:07:06.714Z"
   },
   {
    "duration": 74,
    "start_time": "2024-11-01T22:07:07.891Z"
   },
   {
    "duration": 11,
    "start_time": "2024-11-01T22:07:07.966Z"
   },
   {
    "duration": 80,
    "start_time": "2024-11-01T22:07:07.978Z"
   },
   {
    "duration": 10,
    "start_time": "2024-11-01T22:07:08.059Z"
   },
   {
    "duration": 50,
    "start_time": "2024-11-01T22:07:08.071Z"
   },
   {
    "duration": 11,
    "start_time": "2024-11-01T22:07:08.122Z"
   },
   {
    "duration": 20,
    "start_time": "2024-11-01T22:07:08.134Z"
   },
   {
    "duration": 17,
    "start_time": "2024-11-01T22:07:08.156Z"
   },
   {
    "duration": 5,
    "start_time": "2024-11-01T22:07:08.176Z"
   },
   {
    "duration": 5,
    "start_time": "2024-11-01T22:07:08.182Z"
   },
   {
    "duration": 16,
    "start_time": "2024-11-01T22:07:08.188Z"
   },
   {
    "duration": 185,
    "start_time": "2024-11-01T22:07:08.206Z"
   },
   {
    "duration": 157,
    "start_time": "2024-11-01T22:07:08.393Z"
   },
   {
    "duration": 184,
    "start_time": "2024-11-01T22:07:08.551Z"
   },
   {
    "duration": 211,
    "start_time": "2024-11-01T22:07:08.736Z"
   },
   {
    "duration": 198,
    "start_time": "2024-11-01T22:07:08.949Z"
   },
   {
    "duration": 18,
    "start_time": "2024-11-01T22:07:09.149Z"
   },
   {
    "duration": 12,
    "start_time": "2024-11-01T22:07:09.169Z"
   },
   {
    "duration": 29,
    "start_time": "2024-11-01T22:07:09.197Z"
   },
   {
    "duration": 18,
    "start_time": "2024-11-01T22:07:09.228Z"
   },
   {
    "duration": 344,
    "start_time": "2024-11-01T22:07:09.247Z"
   },
   {
    "duration": 718,
    "start_time": "2024-11-01T22:07:09.597Z"
   },
   {
    "duration": 25,
    "start_time": "2024-11-01T22:07:10.316Z"
   },
   {
    "duration": 71,
    "start_time": "2024-11-01T22:07:10.342Z"
   },
   {
    "duration": 10,
    "start_time": "2024-11-01T22:07:10.415Z"
   },
   {
    "duration": 5,
    "start_time": "2024-11-01T22:07:10.427Z"
   },
   {
    "duration": 4,
    "start_time": "2024-11-01T22:07:10.436Z"
   },
   {
    "duration": 9,
    "start_time": "2024-11-01T22:07:10.498Z"
   },
   {
    "duration": 534,
    "start_time": "2024-11-01T22:07:10.509Z"
   },
   {
    "duration": 58,
    "start_time": "2024-11-01T22:07:11.044Z"
   },
   {
    "duration": 343,
    "start_time": "2024-11-01T22:07:11.104Z"
   },
   {
    "duration": 1249,
    "start_time": "2024-11-02T09:03:31.959Z"
   },
   {
    "duration": 123,
    "start_time": "2024-11-02T09:03:33.211Z"
   },
   {
    "duration": 11,
    "start_time": "2024-11-02T09:03:33.336Z"
   },
   {
    "duration": 196,
    "start_time": "2024-11-02T09:03:33.349Z"
   },
   {
    "duration": 11,
    "start_time": "2024-11-02T09:03:33.548Z"
   },
   {
    "duration": 129,
    "start_time": "2024-11-02T09:03:33.560Z"
   },
   {
    "duration": 12,
    "start_time": "2024-11-02T09:03:33.691Z"
   },
   {
    "duration": 23,
    "start_time": "2024-11-02T09:03:33.705Z"
   },
   {
    "duration": 16,
    "start_time": "2024-11-02T09:03:33.729Z"
   },
   {
    "duration": 13,
    "start_time": "2024-11-02T09:03:33.746Z"
   },
   {
    "duration": 5,
    "start_time": "2024-11-02T09:03:33.761Z"
   },
   {
    "duration": 35,
    "start_time": "2024-11-02T09:03:33.768Z"
   },
   {
    "duration": 197,
    "start_time": "2024-11-02T09:03:33.805Z"
   },
   {
    "duration": 130,
    "start_time": "2024-11-02T09:03:34.007Z"
   },
   {
    "duration": 182,
    "start_time": "2024-11-02T09:03:34.139Z"
   },
   {
    "duration": 202,
    "start_time": "2024-11-02T09:03:34.323Z"
   },
   {
    "duration": 200,
    "start_time": "2024-11-02T09:03:34.528Z"
   },
   {
    "duration": 16,
    "start_time": "2024-11-02T09:03:34.730Z"
   },
   {
    "duration": 17,
    "start_time": "2024-11-02T09:03:34.747Z"
   },
   {
    "duration": 41,
    "start_time": "2024-11-02T09:03:34.765Z"
   },
   {
    "duration": 39,
    "start_time": "2024-11-02T09:03:34.807Z"
   },
   {
    "duration": 343,
    "start_time": "2024-11-02T09:03:34.849Z"
   },
   {
    "duration": 393,
    "start_time": "2024-11-02T09:03:35.194Z"
   },
   {
    "duration": 32,
    "start_time": "2024-11-02T09:03:35.589Z"
   },
   {
    "duration": 17,
    "start_time": "2024-11-02T09:03:35.623Z"
   },
   {
    "duration": 24,
    "start_time": "2024-11-02T09:03:35.641Z"
   },
   {
    "duration": 37,
    "start_time": "2024-11-02T09:03:35.667Z"
   },
   {
    "duration": 69,
    "start_time": "2024-11-02T09:03:35.706Z"
   },
   {
    "duration": 25,
    "start_time": "2024-11-02T09:03:35.777Z"
   },
   {
    "duration": 426,
    "start_time": "2024-11-02T09:03:35.803Z"
   },
   {
    "duration": 7,
    "start_time": "2024-11-02T09:03:36.231Z"
   },
   {
    "duration": 322,
    "start_time": "2024-11-02T09:03:36.240Z"
   },
   {
    "duration": 4,
    "start_time": "2024-11-02T09:06:21.034Z"
   },
   {
    "duration": 103,
    "start_time": "2024-11-02T18:48:31.910Z"
   },
   {
    "duration": 41,
    "start_time": "2024-11-02T18:50:40.342Z"
   },
   {
    "duration": 1197,
    "start_time": "2024-11-02T18:50:45.964Z"
   },
   {
    "duration": 107,
    "start_time": "2024-11-02T18:50:50.299Z"
   },
   {
    "duration": 59,
    "start_time": "2024-11-02T18:50:53.052Z"
   },
   {
    "duration": 9,
    "start_time": "2024-11-02T18:50:56.180Z"
   },
   {
    "duration": 189,
    "start_time": "2024-11-02T18:50:57.073Z"
   },
   {
    "duration": 10,
    "start_time": "2024-11-02T18:50:58.754Z"
   },
   {
    "duration": 113,
    "start_time": "2024-11-02T18:51:02.037Z"
   },
   {
    "duration": 10,
    "start_time": "2024-11-02T18:51:02.343Z"
   },
   {
    "duration": 6,
    "start_time": "2024-11-02T18:51:09.084Z"
   },
   {
    "duration": 12,
    "start_time": "2024-11-02T18:51:12.794Z"
   },
   {
    "duration": 5,
    "start_time": "2024-11-02T18:51:16.543Z"
   },
   {
    "duration": 4,
    "start_time": "2024-11-02T18:51:17.961Z"
   },
   {
    "duration": 8,
    "start_time": "2024-11-02T18:51:18.718Z"
   },
   {
    "duration": 5,
    "start_time": "2024-11-02T18:51:24.861Z"
   },
   {
    "duration": 140,
    "start_time": "2024-11-02T18:51:29.663Z"
   },
   {
    "duration": 116,
    "start_time": "2024-11-02T18:54:43.080Z"
   },
   {
    "duration": 5,
    "start_time": "2024-11-02T18:55:20.627Z"
   },
   {
    "duration": 136,
    "start_time": "2024-11-02T18:55:24.010Z"
   },
   {
    "duration": 344,
    "start_time": "2024-11-02T18:57:45.245Z"
   },
   {
    "duration": 301,
    "start_time": "2024-11-02T18:58:00.701Z"
   },
   {
    "duration": 3,
    "start_time": "2024-11-02T19:02:57.603Z"
   },
   {
    "duration": 107,
    "start_time": "2024-11-02T19:03:10.273Z"
   },
   {
    "duration": 3,
    "start_time": "2024-11-02T19:03:15.305Z"
   },
   {
    "duration": 4,
    "start_time": "2024-11-02T19:03:19.597Z"
   },
   {
    "duration": 77,
    "start_time": "2024-11-02T19:03:50.830Z"
   },
   {
    "duration": 86,
    "start_time": "2024-11-02T19:04:50.057Z"
   },
   {
    "duration": 84,
    "start_time": "2024-11-02T19:05:26.108Z"
   },
   {
    "duration": 96,
    "start_time": "2024-11-02T19:05:52.469Z"
   },
   {
    "duration": 142,
    "start_time": "2024-11-02T19:06:03.749Z"
   },
   {
    "duration": 90,
    "start_time": "2024-11-02T19:06:28.923Z"
   },
   {
    "duration": 98,
    "start_time": "2024-11-02T19:06:38.375Z"
   },
   {
    "duration": 86,
    "start_time": "2024-11-02T19:06:47.873Z"
   },
   {
    "duration": 89,
    "start_time": "2024-11-02T19:07:09.648Z"
   },
   {
    "duration": 89,
    "start_time": "2024-11-02T19:07:15.898Z"
   },
   {
    "duration": 95,
    "start_time": "2024-11-02T19:07:20.619Z"
   },
   {
    "duration": 85,
    "start_time": "2024-11-02T19:07:28.106Z"
   },
   {
    "duration": 74,
    "start_time": "2024-11-02T19:07:52.387Z"
   },
   {
    "duration": 80,
    "start_time": "2024-11-02T19:08:23.332Z"
   },
   {
    "duration": 10,
    "start_time": "2024-11-02T19:17:39.229Z"
   },
   {
    "duration": 10,
    "start_time": "2024-11-02T19:19:11.058Z"
   },
   {
    "duration": 6,
    "start_time": "2024-11-02T19:23:22.047Z"
   },
   {
    "duration": 15,
    "start_time": "2024-11-02T19:23:30.052Z"
   },
   {
    "duration": 16,
    "start_time": "2024-11-02T19:23:35.745Z"
   },
   {
    "duration": 22,
    "start_time": "2024-11-02T19:24:17.760Z"
   },
   {
    "duration": 17,
    "start_time": "2024-11-02T19:24:23.841Z"
   },
   {
    "duration": 7,
    "start_time": "2024-11-02T19:50:55.268Z"
   },
   {
    "duration": 3,
    "start_time": "2024-11-02T19:51:00.548Z"
   },
   {
    "duration": 14,
    "start_time": "2024-11-02T19:51:07.893Z"
   },
   {
    "duration": 3,
    "start_time": "2024-11-02T19:51:12.789Z"
   },
   {
    "duration": 25,
    "start_time": "2024-11-02T19:51:16.649Z"
   },
   {
    "duration": 72,
    "start_time": "2024-11-02T19:52:11.325Z"
   },
   {
    "duration": 78,
    "start_time": "2024-11-02T19:56:53.029Z"
   },
   {
    "duration": 87,
    "start_time": "2024-11-02T19:57:58.617Z"
   },
   {
    "duration": 68,
    "start_time": "2024-11-02T19:57:59.809Z"
   },
   {
    "duration": 4,
    "start_time": "2024-11-02T19:58:52.937Z"
   },
   {
    "duration": 66,
    "start_time": "2024-11-02T20:00:39.313Z"
   },
   {
    "duration": 68,
    "start_time": "2024-11-02T20:03:59.858Z"
   },
   {
    "duration": 64,
    "start_time": "2024-11-02T20:04:01.618Z"
   },
   {
    "duration": 1005,
    "start_time": "2024-11-02T20:04:33.375Z"
   },
   {
    "duration": 60,
    "start_time": "2024-11-02T20:04:34.382Z"
   },
   {
    "duration": 10,
    "start_time": "2024-11-02T20:04:34.444Z"
   },
   {
    "duration": 88,
    "start_time": "2024-11-02T20:04:34.455Z"
   },
   {
    "duration": 9,
    "start_time": "2024-11-02T20:04:34.544Z"
   },
   {
    "duration": 49,
    "start_time": "2024-11-02T20:04:34.555Z"
   },
   {
    "duration": 9,
    "start_time": "2024-11-02T20:04:34.605Z"
   },
   {
    "duration": 8,
    "start_time": "2024-11-02T20:04:34.615Z"
   },
   {
    "duration": 18,
    "start_time": "2024-11-02T20:04:34.625Z"
   },
   {
    "duration": 4,
    "start_time": "2024-11-02T20:04:34.644Z"
   },
   {
    "duration": 4,
    "start_time": "2024-11-02T20:04:34.649Z"
   },
   {
    "duration": 13,
    "start_time": "2024-11-02T20:04:34.654Z"
   },
   {
    "duration": 5,
    "start_time": "2024-11-02T20:04:34.669Z"
   },
   {
    "duration": 154,
    "start_time": "2024-11-02T20:04:34.678Z"
   },
   {
    "duration": 108,
    "start_time": "2024-11-02T20:04:34.834Z"
   },
   {
    "duration": 88,
    "start_time": "2024-11-02T20:04:34.944Z"
   },
   {
    "duration": 154,
    "start_time": "2024-11-02T20:04:35.034Z"
   },
   {
    "duration": 11,
    "start_time": "2024-11-02T20:04:35.189Z"
   },
   {
    "duration": 169,
    "start_time": "2024-11-02T20:04:35.201Z"
   },
   {
    "duration": 162,
    "start_time": "2024-11-02T20:04:35.371Z"
   },
   {
    "duration": 14,
    "start_time": "2024-11-02T20:04:35.535Z"
   },
   {
    "duration": 16,
    "start_time": "2024-11-02T20:04:35.557Z"
   },
   {
    "duration": 19,
    "start_time": "2024-11-02T20:04:35.574Z"
   },
   {
    "duration": 22,
    "start_time": "2024-11-02T20:04:35.594Z"
   },
   {
    "duration": 276,
    "start_time": "2024-11-02T20:04:35.617Z"
   },
   {
    "duration": 326,
    "start_time": "2024-11-02T20:04:35.895Z"
   },
   {
    "duration": 3,
    "start_time": "2024-11-02T20:04:36.223Z"
   },
   {
    "duration": 44,
    "start_time": "2024-11-02T20:04:36.227Z"
   },
   {
    "duration": 16,
    "start_time": "2024-11-02T20:04:36.273Z"
   },
   {
    "duration": 10,
    "start_time": "2024-11-02T20:04:36.290Z"
   },
   {
    "duration": 19,
    "start_time": "2024-11-02T20:04:36.301Z"
   },
   {
    "duration": 5,
    "start_time": "2024-11-02T20:04:36.322Z"
   },
   {
    "duration": 42,
    "start_time": "2024-11-02T20:04:36.328Z"
   },
   {
    "duration": 361,
    "start_time": "2024-11-02T20:04:36.371Z"
   },
   {
    "duration": 5,
    "start_time": "2024-11-02T20:04:36.733Z"
   },
   {
    "duration": 277,
    "start_time": "2024-11-02T20:04:36.739Z"
   },
   {
    "duration": 12,
    "start_time": "2024-11-02T20:06:17.815Z"
   },
   {
    "duration": 11,
    "start_time": "2024-11-02T20:06:27.752Z"
   },
   {
    "duration": 11,
    "start_time": "2024-11-02T20:08:18.172Z"
   },
   {
    "duration": 73,
    "start_time": "2024-11-02T20:16:54.006Z"
   },
   {
    "duration": 959,
    "start_time": "2024-11-02T20:17:42.710Z"
   },
   {
    "duration": 1068,
    "start_time": "2024-11-03T13:09:37.186Z"
   },
   {
    "duration": 136,
    "start_time": "2024-11-03T13:09:38.255Z"
   },
   {
    "duration": 10,
    "start_time": "2024-11-03T13:09:38.393Z"
   },
   {
    "duration": 255,
    "start_time": "2024-11-03T13:09:38.406Z"
   },
   {
    "duration": 10,
    "start_time": "2024-11-03T13:09:38.662Z"
   },
   {
    "duration": 98,
    "start_time": "2024-11-03T13:09:38.674Z"
   },
   {
    "duration": 9,
    "start_time": "2024-11-03T13:09:38.773Z"
   },
   {
    "duration": 12,
    "start_time": "2024-11-03T13:09:38.783Z"
   },
   {
    "duration": 15,
    "start_time": "2024-11-03T13:09:38.797Z"
   },
   {
    "duration": 11,
    "start_time": "2024-11-03T13:09:38.814Z"
   },
   {
    "duration": 4,
    "start_time": "2024-11-03T13:09:38.826Z"
   },
   {
    "duration": 7,
    "start_time": "2024-11-03T13:09:38.831Z"
   },
   {
    "duration": 9,
    "start_time": "2024-11-03T13:09:38.840Z"
   },
   {
    "duration": 178,
    "start_time": "2024-11-03T13:09:38.850Z"
   },
   {
    "duration": 121,
    "start_time": "2024-11-03T13:09:39.029Z"
   },
   {
    "duration": 97,
    "start_time": "2024-11-03T13:09:39.151Z"
   },
   {
    "duration": 168,
    "start_time": "2024-11-03T13:09:39.250Z"
   },
   {
    "duration": 12,
    "start_time": "2024-11-03T13:09:39.419Z"
   },
   {
    "duration": 220,
    "start_time": "2024-11-03T13:09:39.432Z"
   },
   {
    "duration": 12,
    "start_time": "2024-11-03T13:09:39.653Z"
   },
   {
    "duration": 180,
    "start_time": "2024-11-03T13:09:39.675Z"
   },
   {
    "duration": 20,
    "start_time": "2024-11-03T13:09:39.857Z"
   },
   {
    "duration": 17,
    "start_time": "2024-11-03T13:09:39.879Z"
   },
   {
    "duration": 19,
    "start_time": "2024-11-03T13:09:39.897Z"
   },
   {
    "duration": 23,
    "start_time": "2024-11-03T13:09:39.918Z"
   },
   {
    "duration": 53,
    "start_time": "2024-11-03T13:09:39.943Z"
   },
   {
    "duration": 311,
    "start_time": "2024-11-03T13:09:39.998Z"
   },
   {
    "duration": 404,
    "start_time": "2024-11-03T13:09:40.311Z"
   },
   {
    "duration": 4,
    "start_time": "2024-11-03T13:09:40.716Z"
   },
   {
    "duration": 24,
    "start_time": "2024-11-03T13:09:40.721Z"
   },
   {
    "duration": 33,
    "start_time": "2024-11-03T13:09:40.746Z"
   },
   {
    "duration": 10,
    "start_time": "2024-11-03T13:09:40.781Z"
   },
   {
    "duration": 11,
    "start_time": "2024-11-03T13:09:40.792Z"
   },
   {
    "duration": 18,
    "start_time": "2024-11-03T13:09:40.804Z"
   },
   {
    "duration": 9,
    "start_time": "2024-11-03T13:09:40.824Z"
   },
   {
    "duration": 326,
    "start_time": "2024-11-03T13:09:40.835Z"
   },
   {
    "duration": 5,
    "start_time": "2024-11-03T13:09:41.163Z"
   },
   {
    "duration": 280,
    "start_time": "2024-11-03T13:09:41.176Z"
   }
  ],
  "kernelspec": {
   "display_name": "Python 3 (ipykernel)",
   "language": "python",
   "name": "python3"
  },
  "language_info": {
   "codemirror_mode": {
    "name": "ipython",
    "version": 3
   },
   "file_extension": ".py",
   "mimetype": "text/x-python",
   "name": "python",
   "nbconvert_exporter": "python",
   "pygments_lexer": "ipython3",
   "version": "3.12.7"
  },
  "toc": {
   "base_numbering": 1,
   "nav_menu": {},
   "number_sections": true,
   "sideBar": true,
   "skip_h1_title": true,
   "title_cell": "Table of Contents",
   "title_sidebar": "Contents",
   "toc_cell": false,
   "toc_position": {
    "height": "calc(100% - 180px)",
    "left": "10px",
    "top": "150px",
    "width": "245.75px"
   },
   "toc_section_display": true,
   "toc_window_display": true
  }
 },
 "nbformat": 4,
 "nbformat_minor": 5
}
